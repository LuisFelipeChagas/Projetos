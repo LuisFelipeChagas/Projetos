{
 "cells": [
  {
   "cell_type": "markdown",
   "id": "8e328ffa",
   "metadata": {},
   "source": [
    "# Aplicação de Técnicas de Machine Learning para a Detecção de Doenças Hepáticas\n",
    "\n",
    "Projeto realizado para o trabalho de conclusão de curso (TCC) do MBA Executivo em Business Analytics do Instituto de Pós-graduação e Graduação (IPOG). Informações relativas ao conjunto de dados estão destacadas no capítulo 3 do documento \"TCC - Luis Felipe Santos Chagas\".\n",
    "\n",
    "Título do trabalho: Aplicação e comparação das Técnicas de Regressão Logística, Random Forest e SVM para a Detecção de Doenças Hepáticas."
   ]
  },
  {
   "cell_type": "markdown",
   "id": "8105ae60",
   "metadata": {},
   "source": [
    "## 1 - Preparação dos dados:\n",
    "\n",
    "1. Importação das bibliotecas utilizadas;\n",
    "2. Carregamento dos dados;\n",
    "3. Eliminação de observações com valores nulos;\n",
    "4. Análise do tipo dos dados."
   ]
  },
  {
   "cell_type": "code",
   "execution_count": 1,
   "id": "7856319f",
   "metadata": {},
   "outputs": [],
   "source": [
    "# Bibliotecas utilizadas no Projeto\n",
    "\n",
    "import pandas as pd\n",
    "import numpy as np\n",
    "\n",
    "import matplotlib.pyplot as plt\n",
    "import seaborn as sns\n",
    "sns.set_theme(style=\"whitegrid\")\n",
    "\n",
    "import imblearn\n",
    "from imblearn.over_sampling import SMOTE\n",
    "\n",
    "import sklearn\n",
    "from sklearn.preprocessing import LabelEncoder, StandardScaler\n",
    "from sklearn.model_selection import train_test_split\n",
    "from sklearn.model_selection import GridSearchCV, RandomizedSearchCV, cross_val_score\n",
    "\n",
    "from sklearn.linear_model import LogisticRegression\n",
    "from sklearn.ensemble import RandomForestClassifier\n",
    "from sklearn.svm import SVC\n",
    "\n",
    "from sklearn.metrics import accuracy_score, confusion_matrix\n",
    "from sklearn.inspection import permutation_importance\n",
    "\n",
    "import warnings\n",
    "warnings.filterwarnings('ignore')"
   ]
  },
  {
   "cell_type": "code",
   "execution_count": 2,
   "id": "75562929",
   "metadata": {},
   "outputs": [],
   "source": [
    "# Carregando o conjunto de dados\n",
    "df = pd.read_csv('Indian Liver Patient Dataset (ILPD).csv', names = ['Age',\n",
    "                                                                     'Gender',\n",
    "                                                                     'TB',\n",
    "                                                                     'DB',\n",
    "                                                                     'Alkphos',\n",
    "                                                                     'Sgpt',\n",
    "                                                                     'Sgot',\n",
    "                                                                     'TP',\n",
    "                                                                    'ALB',\n",
    "                                                                    'A_G_Ratio',\n",
    "                                                                    'Liver_Disease'])"
   ]
  },
  {
   "cell_type": "code",
   "execution_count": 3,
   "id": "5ce7d114",
   "metadata": {},
   "outputs": [
    {
     "data": {
      "text/html": [
       "<div>\n",
       "<style scoped>\n",
       "    .dataframe tbody tr th:only-of-type {\n",
       "        vertical-align: middle;\n",
       "    }\n",
       "\n",
       "    .dataframe tbody tr th {\n",
       "        vertical-align: top;\n",
       "    }\n",
       "\n",
       "    .dataframe thead th {\n",
       "        text-align: right;\n",
       "    }\n",
       "</style>\n",
       "<table border=\"1\" class=\"dataframe\">\n",
       "  <thead>\n",
       "    <tr style=\"text-align: right;\">\n",
       "      <th></th>\n",
       "      <th>Age</th>\n",
       "      <th>Gender</th>\n",
       "      <th>TB</th>\n",
       "      <th>DB</th>\n",
       "      <th>Alkphos</th>\n",
       "      <th>Sgpt</th>\n",
       "      <th>Sgot</th>\n",
       "      <th>TP</th>\n",
       "      <th>ALB</th>\n",
       "      <th>A_G_Ratio</th>\n",
       "      <th>Liver_Disease</th>\n",
       "    </tr>\n",
       "  </thead>\n",
       "  <tbody>\n",
       "    <tr>\n",
       "      <th>524</th>\n",
       "      <td>29</td>\n",
       "      <td>Male</td>\n",
       "      <td>0.8</td>\n",
       "      <td>0.2</td>\n",
       "      <td>156</td>\n",
       "      <td>12</td>\n",
       "      <td>15</td>\n",
       "      <td>6.8</td>\n",
       "      <td>3.7</td>\n",
       "      <td>1.10</td>\n",
       "      <td>2</td>\n",
       "    </tr>\n",
       "    <tr>\n",
       "      <th>51</th>\n",
       "      <td>34</td>\n",
       "      <td>Female</td>\n",
       "      <td>0.6</td>\n",
       "      <td>0.1</td>\n",
       "      <td>161</td>\n",
       "      <td>15</td>\n",
       "      <td>19</td>\n",
       "      <td>6.6</td>\n",
       "      <td>3.4</td>\n",
       "      <td>1.00</td>\n",
       "      <td>1</td>\n",
       "    </tr>\n",
       "    <tr>\n",
       "      <th>251</th>\n",
       "      <td>33</td>\n",
       "      <td>Male</td>\n",
       "      <td>0.9</td>\n",
       "      <td>0.8</td>\n",
       "      <td>680</td>\n",
       "      <td>37</td>\n",
       "      <td>40</td>\n",
       "      <td>5.9</td>\n",
       "      <td>2.6</td>\n",
       "      <td>0.80</td>\n",
       "      <td>1</td>\n",
       "    </tr>\n",
       "    <tr>\n",
       "      <th>17</th>\n",
       "      <td>33</td>\n",
       "      <td>Male</td>\n",
       "      <td>1.6</td>\n",
       "      <td>0.5</td>\n",
       "      <td>165</td>\n",
       "      <td>15</td>\n",
       "      <td>23</td>\n",
       "      <td>7.3</td>\n",
       "      <td>3.5</td>\n",
       "      <td>0.92</td>\n",
       "      <td>2</td>\n",
       "    </tr>\n",
       "    <tr>\n",
       "      <th>3</th>\n",
       "      <td>58</td>\n",
       "      <td>Male</td>\n",
       "      <td>1.0</td>\n",
       "      <td>0.4</td>\n",
       "      <td>182</td>\n",
       "      <td>14</td>\n",
       "      <td>20</td>\n",
       "      <td>6.8</td>\n",
       "      <td>3.4</td>\n",
       "      <td>1.00</td>\n",
       "      <td>1</td>\n",
       "    </tr>\n",
       "  </tbody>\n",
       "</table>\n",
       "</div>"
      ],
      "text/plain": [
       "     Age  Gender   TB   DB  Alkphos  Sgpt  Sgot   TP  ALB  A_G_Ratio  \\\n",
       "524   29    Male  0.8  0.2      156    12    15  6.8  3.7       1.10   \n",
       "51    34  Female  0.6  0.1      161    15    19  6.6  3.4       1.00   \n",
       "251   33    Male  0.9  0.8      680    37    40  5.9  2.6       0.80   \n",
       "17    33    Male  1.6  0.5      165    15    23  7.3  3.5       0.92   \n",
       "3     58    Male  1.0  0.4      182    14    20  6.8  3.4       1.00   \n",
       "\n",
       "     Liver_Disease  \n",
       "524              2  \n",
       "51               1  \n",
       "251              1  \n",
       "17               2  \n",
       "3                1  "
      ]
     },
     "execution_count": 3,
     "metadata": {},
     "output_type": "execute_result"
    }
   ],
   "source": [
    "# Retornando 5 registros aleatórias do conjunto de dados\n",
    "df.sample(5)"
   ]
  },
  {
   "cell_type": "code",
   "execution_count": 4,
   "id": "bc721877",
   "metadata": {},
   "outputs": [
    {
     "name": "stdout",
     "output_type": "stream",
     "text": [
      "<class 'pandas.core.frame.DataFrame'>\n",
      "RangeIndex: 583 entries, 0 to 582\n",
      "Data columns (total 11 columns):\n",
      " #   Column         Non-Null Count  Dtype  \n",
      "---  ------         --------------  -----  \n",
      " 0   Age            583 non-null    int64  \n",
      " 1   Gender         583 non-null    object \n",
      " 2   TB             583 non-null    float64\n",
      " 3   DB             583 non-null    float64\n",
      " 4   Alkphos        583 non-null    int64  \n",
      " 5   Sgpt           583 non-null    int64  \n",
      " 6   Sgot           583 non-null    int64  \n",
      " 7   TP             583 non-null    float64\n",
      " 8   ALB            583 non-null    float64\n",
      " 9   A_G_Ratio      579 non-null    float64\n",
      " 10  Liver_Disease  583 non-null    int64  \n",
      "dtypes: float64(5), int64(5), object(1)\n",
      "memory usage: 50.2+ KB\n"
     ]
    }
   ],
   "source": [
    "# Informações gerais do conjunto de dados:\n",
    "df.info()"
   ]
  },
  {
   "cell_type": "code",
   "execution_count": 5,
   "id": "ec72d27e",
   "metadata": {},
   "outputs": [
    {
     "name": "stdout",
     "output_type": "stream",
     "text": [
      "<class 'pandas.core.frame.DataFrame'>\n",
      "RangeIndex: 579 entries, 0 to 578\n",
      "Data columns (total 11 columns):\n",
      " #   Column         Non-Null Count  Dtype  \n",
      "---  ------         --------------  -----  \n",
      " 0   Age            579 non-null    int64  \n",
      " 1   Gender         579 non-null    object \n",
      " 2   TB             579 non-null    float64\n",
      " 3   DB             579 non-null    float64\n",
      " 4   Alkphos        579 non-null    int64  \n",
      " 5   Sgpt           579 non-null    int64  \n",
      " 6   Sgot           579 non-null    int64  \n",
      " 7   TP             579 non-null    float64\n",
      " 8   ALB            579 non-null    float64\n",
      " 9   A_G_Ratio      579 non-null    float64\n",
      " 10  Liver_Disease  579 non-null    int64  \n",
      "dtypes: float64(5), int64(5), object(1)\n",
      "memory usage: 49.9+ KB\n"
     ]
    }
   ],
   "source": [
    "# Apagando linhas com valores nulos e resetando o índice\n",
    "df.dropna(inplace=True)\n",
    "df.reset_index(inplace=True, drop=True)\n",
    "df.info()"
   ]
  },
  {
   "cell_type": "markdown",
   "id": "908c4a9f",
   "metadata": {},
   "source": [
    "> Para a coluna A_G_Ratio, temos apenas 4 valores nulos. Essas observações serão eliminadas do conjunto de dados. Devido à baixa quantidade de valores nulos, não haverá nenhum tipo de inputação de dados."
   ]
  },
  {
   "cell_type": "markdown",
   "id": "0c4e3db5",
   "metadata": {},
   "source": [
    "## 2 - Análise Exploratória dos Dados\n",
    "\n",
    "### 2.1 - Variáveis numéricas"
   ]
  },
  {
   "cell_type": "code",
   "execution_count": 6,
   "id": "395cc257",
   "metadata": {},
   "outputs": [],
   "source": [
    "# Separando as variáveis numéricas\n",
    "num =  ['Age', 'TB', 'DB','Alkphos','Sgpt','Sgot','TP','ALB','A_G_Ratio']  "
   ]
  },
  {
   "cell_type": "code",
   "execution_count": 7,
   "id": "4d5b9aa7",
   "metadata": {},
   "outputs": [
    {
     "data": {
      "image/png": "[encoded data removed]",
      "text/plain": [
       "<Figure size 1500x1500 with 9 Axes>"
      ]
     },
     "metadata": {},
     "output_type": "display_data"
    }
   ],
   "source": [
    "# Histograma das variáveis numéricas\n",
    "df[num].hist(color = '#7555da', figsize = (15, 15), bins = 10);"
   ]
  },
  {
   "cell_type": "code",
   "execution_count": 8,
   "id": "8e2dba4d",
   "metadata": {},
   "outputs": [
    {
     "data": {
      "text/html": [
       "<div>\n",
       "<style scoped>\n",
       "    .dataframe tbody tr th:only-of-type {\n",
       "        vertical-align: middle;\n",
       "    }\n",
       "\n",
       "    .dataframe tbody tr th {\n",
       "        vertical-align: top;\n",
       "    }\n",
       "\n",
       "    .dataframe thead th {\n",
       "        text-align: right;\n",
       "    }\n",
       "</style>\n",
       "<table border=\"1\" class=\"dataframe\">\n",
       "  <thead>\n",
       "    <tr style=\"text-align: right;\">\n",
       "      <th></th>\n",
       "      <th>Age</th>\n",
       "      <th>TB</th>\n",
       "      <th>DB</th>\n",
       "      <th>Alkphos</th>\n",
       "      <th>Sgpt</th>\n",
       "      <th>Sgot</th>\n",
       "      <th>TP</th>\n",
       "      <th>ALB</th>\n",
       "      <th>A_G_Ratio</th>\n",
       "    </tr>\n",
       "  </thead>\n",
       "  <tbody>\n",
       "    <tr>\n",
       "      <th>mean</th>\n",
       "      <td>44.8</td>\n",
       "      <td>3.3</td>\n",
       "      <td>1.5</td>\n",
       "      <td>291.4</td>\n",
       "      <td>81.1</td>\n",
       "      <td>110.4</td>\n",
       "      <td>6.5</td>\n",
       "      <td>3.1</td>\n",
       "      <td>0.9</td>\n",
       "    </tr>\n",
       "    <tr>\n",
       "      <th>std</th>\n",
       "      <td>16.2</td>\n",
       "      <td>6.2</td>\n",
       "      <td>2.8</td>\n",
       "      <td>243.6</td>\n",
       "      <td>183.2</td>\n",
       "      <td>289.9</td>\n",
       "      <td>1.1</td>\n",
       "      <td>0.8</td>\n",
       "      <td>0.3</td>\n",
       "    </tr>\n",
       "    <tr>\n",
       "      <th>min</th>\n",
       "      <td>4.0</td>\n",
       "      <td>0.4</td>\n",
       "      <td>0.1</td>\n",
       "      <td>63.0</td>\n",
       "      <td>10.0</td>\n",
       "      <td>10.0</td>\n",
       "      <td>2.7</td>\n",
       "      <td>0.9</td>\n",
       "      <td>0.3</td>\n",
       "    </tr>\n",
       "    <tr>\n",
       "      <th>25%</th>\n",
       "      <td>33.0</td>\n",
       "      <td>0.8</td>\n",
       "      <td>0.2</td>\n",
       "      <td>175.5</td>\n",
       "      <td>23.0</td>\n",
       "      <td>25.0</td>\n",
       "      <td>5.8</td>\n",
       "      <td>2.6</td>\n",
       "      <td>0.7</td>\n",
       "    </tr>\n",
       "    <tr>\n",
       "      <th>50%</th>\n",
       "      <td>45.0</td>\n",
       "      <td>1.0</td>\n",
       "      <td>0.3</td>\n",
       "      <td>208.0</td>\n",
       "      <td>35.0</td>\n",
       "      <td>42.0</td>\n",
       "      <td>6.6</td>\n",
       "      <td>3.1</td>\n",
       "      <td>0.9</td>\n",
       "    </tr>\n",
       "    <tr>\n",
       "      <th>75%</th>\n",
       "      <td>58.0</td>\n",
       "      <td>2.6</td>\n",
       "      <td>1.3</td>\n",
       "      <td>298.0</td>\n",
       "      <td>61.0</td>\n",
       "      <td>87.0</td>\n",
       "      <td>7.2</td>\n",
       "      <td>3.8</td>\n",
       "      <td>1.1</td>\n",
       "    </tr>\n",
       "    <tr>\n",
       "      <th>max</th>\n",
       "      <td>90.0</td>\n",
       "      <td>75.0</td>\n",
       "      <td>19.7</td>\n",
       "      <td>2110.0</td>\n",
       "      <td>2000.0</td>\n",
       "      <td>4929.0</td>\n",
       "      <td>9.6</td>\n",
       "      <td>5.5</td>\n",
       "      <td>2.8</td>\n",
       "    </tr>\n",
       "  </tbody>\n",
       "</table>\n",
       "</div>"
      ],
      "text/plain": [
       "       Age    TB    DB  Alkphos    Sgpt    Sgot   TP  ALB  A_G_Ratio\n",
       "mean  44.8   3.3   1.5    291.4    81.1   110.4  6.5  3.1        0.9\n",
       "std   16.2   6.2   2.8    243.6   183.2   289.9  1.1  0.8        0.3\n",
       "min    4.0   0.4   0.1     63.0    10.0    10.0  2.7  0.9        0.3\n",
       "25%   33.0   0.8   0.2    175.5    23.0    25.0  5.8  2.6        0.7\n",
       "50%   45.0   1.0   0.3    208.0    35.0    42.0  6.6  3.1        0.9\n",
       "75%   58.0   2.6   1.3    298.0    61.0    87.0  7.2  3.8        1.1\n",
       "max   90.0  75.0  19.7   2110.0  2000.0  4929.0  9.6  5.5        2.8"
      ]
     },
     "execution_count": 8,
     "metadata": {},
     "output_type": "execute_result"
    }
   ],
   "source": [
    "# Resumo estatístico das variáveis numéricas\n",
    "resumo = round(df[num].describe(), 1)\n",
    "resumo.loc['mean': 'max']"
   ]
  },
  {
   "cell_type": "code",
   "execution_count": 9,
   "id": "9776c855",
   "metadata": {},
   "outputs": [
    {
     "data": {
      "image/png": "[encoded data removed]",
      "text/plain": [
       "<Figure size 900x300 with 3 Axes>"
      ]
     },
     "metadata": {},
     "output_type": "display_data"
    }
   ],
   "source": [
    "# Boxplot das variáveis numéricas\n",
    "plt.figure(figsize = (9, 3))\n",
    "\n",
    "plt.subplot(1, 3, 1)\n",
    "sns.boxplot(x = df['Age'], color = '#25f3ea')\n",
    "\n",
    "plt.subplot(1, 3, 2)\n",
    "sns.boxplot(x = df['TB'], color = '#25f3ea')\n",
    "\n",
    "plt.subplot(1, 3, 3)\n",
    "sns.boxplot(x = df['DB'], color = '#25f3ea')\n",
    "\n",
    "plt.tight_layout()    "
   ]
  },
  {
   "cell_type": "code",
   "execution_count": 10,
   "id": "0be1b336",
   "metadata": {},
   "outputs": [
    {
     "data": {
      "image/png": "[encoded data removed]",
      "text/plain": [
       "<Figure size 900x300 with 3 Axes>"
      ]
     },
     "metadata": {},
     "output_type": "display_data"
    }
   ],
   "source": [
    "plt.figure(figsize = (9, 3))\n",
    "\n",
    "plt.subplot(1, 3, 1)\n",
    "sns.boxplot(x = df['Alkphos'], color = '#25f3ea')\n",
    "\n",
    "plt.subplot(1, 3, 2)\n",
    "sns.boxplot(x = df['Sgpt'], color = '#25f3ea')\n",
    "\n",
    "plt.subplot(1, 3, 3)\n",
    "sns.boxplot(x = df['Sgot'], color = '#25f3ea')\n",
    "\n",
    "plt.tight_layout() "
   ]
  },
  {
   "cell_type": "code",
   "execution_count": 11,
   "id": "e407c87a",
   "metadata": {},
   "outputs": [
    {
     "data": {
      "image/png": "[encoded data removed]",
      "text/plain": [
       "<Figure size 900x300 with 3 Axes>"
      ]
     },
     "metadata": {},
     "output_type": "display_data"
    }
   ],
   "source": [
    "plt.figure(figsize = (9, 3))\n",
    "\n",
    "plt.subplot(1, 3, 1)\n",
    "sns.boxplot(x = df['TP'], color = '#25f3ea')\n",
    "\n",
    "plt.subplot(1, 3, 2)\n",
    "sns.boxplot(x = df['ALB'], color = '#25f3ea')\n",
    "\n",
    "plt.subplot(1, 3, 3)\n",
    "sns.boxplot(x = df['A_G_Ratio'], color = '#25f3ea')\n",
    "\n",
    "plt.tight_layout() "
   ]
  },
  {
   "cell_type": "markdown",
   "id": "6a14e4ff",
   "metadata": {},
   "source": [
    "> Das análises dos histogramas, boxplots e resumos estatísticos, podemos destacar:\n",
    "\n",
    "1. Alguns atributos apresentam outliers. São eles: `TB`, `DB`, `Alkphos`, `Sgpt` e `Sgot`. Esses atributos serão tratados posteriormente;  \n",
    "\n",
    "2. Existem colunas com distribuições próximas à distribuição normal;  \n",
    "\n",
    "3. Existe diferença de grandeza entre os atributos. Por isso, será necessário realizar a padronização nos dados."
   ]
  },
  {
   "cell_type": "markdown",
   "id": "ad62bac5",
   "metadata": {},
   "source": [
    "### 2.2 - Variável Categórica"
   ]
  },
  {
   "cell_type": "code",
   "execution_count": 12,
   "id": "950bc87b",
   "metadata": {},
   "outputs": [
    {
     "data": {
      "text/html": [
       "<div>\n",
       "<style scoped>\n",
       "    .dataframe tbody tr th:only-of-type {\n",
       "        vertical-align: middle;\n",
       "    }\n",
       "\n",
       "    .dataframe tbody tr th {\n",
       "        vertical-align: top;\n",
       "    }\n",
       "\n",
       "    .dataframe thead th {\n",
       "        text-align: right;\n",
       "    }\n",
       "</style>\n",
       "<table border=\"1\" class=\"dataframe\">\n",
       "  <thead>\n",
       "    <tr style=\"text-align: right;\">\n",
       "      <th></th>\n",
       "      <th>Gender</th>\n",
       "    </tr>\n",
       "  </thead>\n",
       "  <tbody>\n",
       "    <tr>\n",
       "      <th>Male</th>\n",
       "      <td>439</td>\n",
       "    </tr>\n",
       "    <tr>\n",
       "      <th>Female</th>\n",
       "      <td>140</td>\n",
       "    </tr>\n",
       "  </tbody>\n",
       "</table>\n",
       "</div>"
      ],
      "text/plain": [
       "        Gender\n",
       "Male       439\n",
       "Female     140"
      ]
     },
     "execution_count": 12,
     "metadata": {},
     "output_type": "execute_result"
    }
   ],
   "source": [
    "sexo = pd.DataFrame(df['Gender'].value_counts())\n",
    "sexo"
   ]
  },
  {
   "cell_type": "code",
   "execution_count": 13,
   "id": "7ac40230",
   "metadata": {},
   "outputs": [
    {
     "data": {
      "image/png": "[encoded data removed]",
      "text/plain": [
       "<Figure size 500x300 with 1 Axes>"
      ]
     },
     "metadata": {},
     "output_type": "display_data"
    }
   ],
   "source": [
    "plt.figure(figsize = (5, 3))\n",
    "chart = sns.countplot(data = df,\n",
    "                     x = 'Gender',\n",
    "                     palette = ['#F3252E', '#25f3ea'],\n",
    "                     hue = 'Liver_Disease',\n",
    "                     orient = 'v',\n",
    "                     alpha = 0.9)\n",
    "\n",
    "# Labels\n",
    "sns.set(font_scale = 0.8)\n",
    "sns.set_style('whitegrid')\n",
    "sns.set_palette('prism')\n",
    "chart.set_xlabel(' ')\n",
    "chart.set_ylabel(' ');\n"
   ]
  },
  {
   "cell_type": "markdown",
   "id": "1124ba8a",
   "metadata": {},
   "source": [
    "### 2.3 - Variável Alvo\n",
    "\n",
    "Coluna Liver_Disease"
   ]
  },
  {
   "cell_type": "code",
   "execution_count": 14,
   "id": "19113d09",
   "metadata": {},
   "outputs": [
    {
     "data": {
      "text/plain": [
       "1    414\n",
       "2    165\n",
       "Name: Liver_Disease, dtype: int64"
      ]
     },
     "execution_count": 14,
     "metadata": {},
     "output_type": "execute_result"
    }
   ],
   "source": [
    "# Contagem dos valores da variável alvo:\n",
    "# 1 - Não presença de algum tipo de doença hepática;\n",
    "# 2 - Presença de algum tipo de doença hepática\n",
    "\n",
    "df['Liver_Disease'].value_counts()"
   ]
  },
  {
   "cell_type": "code",
   "execution_count": 15,
   "id": "424b8b1c",
   "metadata": {},
   "outputs": [
    {
     "data": {
      "image/png": "[encoded data removed]",
      "text/plain": [
       "<Figure size 500x300 with 1 Axes>"
      ]
     },
     "metadata": {},
     "output_type": "display_data"
    }
   ],
   "source": [
    "plt.figure(figsize = (5, 3))\n",
    "sns.countplot(x = df['Liver_Disease'], color = '#25f3ea');"
   ]
  },
  {
   "cell_type": "markdown",
   "id": "19dd9a65",
   "metadata": {},
   "source": [
    "> A variável alvo possui um desbalanceamento. Será aplicado o SMOTE, técnica de oversampling."
   ]
  },
  {
   "cell_type": "markdown",
   "id": "a5a9575c",
   "metadata": {},
   "source": [
    "### 2.4 - Análise da correlação das variáveis\n",
    "\n",
    "Variáveis preditivas com altas correlações entre elas devem ser eliminadas do conjunto de dados, para evitar viés (excesso de importância para a informação)."
   ]
  },
  {
   "cell_type": "code",
   "execution_count": 16,
   "id": "b9cd9680",
   "metadata": {},
   "outputs": [
    {
     "data": {
      "image/png": "[encoded data removed]",
      "text/plain": [
       "<Figure size 800x600 with 2 Axes>"
      ]
     },
     "metadata": {},
     "output_type": "display_data"
    }
   ],
   "source": [
    "# Heatmap\n",
    "\n",
    "plt.figure(figsize = (8, 6))\n",
    "sns.heatmap(df[num].corr(), annot = True, fmt = '.1f');"
   ]
  },
  {
   "cell_type": "code",
   "execution_count": 17,
   "id": "89f4022a",
   "metadata": {},
   "outputs": [],
   "source": [
    "# Eliminando as colunas com maiores correlações:\n",
    "df.drop(['DB', 'ALB'], inplace = True, axis=1)"
   ]
  },
  {
   "cell_type": "code",
   "execution_count": 18,
   "id": "608548d1",
   "metadata": {},
   "outputs": [
    {
     "data": {
      "text/html": [
       "<div>\n",
       "<style scoped>\n",
       "    .dataframe tbody tr th:only-of-type {\n",
       "        vertical-align: middle;\n",
       "    }\n",
       "\n",
       "    .dataframe tbody tr th {\n",
       "        vertical-align: top;\n",
       "    }\n",
       "\n",
       "    .dataframe thead th {\n",
       "        text-align: right;\n",
       "    }\n",
       "</style>\n",
       "<table border=\"1\" class=\"dataframe\">\n",
       "  <thead>\n",
       "    <tr style=\"text-align: right;\">\n",
       "      <th></th>\n",
       "      <th>Age</th>\n",
       "      <th>Gender</th>\n",
       "      <th>TB</th>\n",
       "      <th>Alkphos</th>\n",
       "      <th>Sgpt</th>\n",
       "      <th>Sgot</th>\n",
       "      <th>TP</th>\n",
       "      <th>A_G_Ratio</th>\n",
       "      <th>Liver_Disease</th>\n",
       "    </tr>\n",
       "  </thead>\n",
       "  <tbody>\n",
       "    <tr>\n",
       "      <th>165</th>\n",
       "      <td>48</td>\n",
       "      <td>Male</td>\n",
       "      <td>4.5</td>\n",
       "      <td>282</td>\n",
       "      <td>13</td>\n",
       "      <td>74</td>\n",
       "      <td>7.0</td>\n",
       "      <td>0.52</td>\n",
       "      <td>1</td>\n",
       "    </tr>\n",
       "    <tr>\n",
       "      <th>202</th>\n",
       "      <td>38</td>\n",
       "      <td>Female</td>\n",
       "      <td>0.8</td>\n",
       "      <td>145</td>\n",
       "      <td>19</td>\n",
       "      <td>23</td>\n",
       "      <td>6.1</td>\n",
       "      <td>1.03</td>\n",
       "      <td>2</td>\n",
       "    </tr>\n",
       "    <tr>\n",
       "      <th>221</th>\n",
       "      <td>47</td>\n",
       "      <td>Male</td>\n",
       "      <td>0.9</td>\n",
       "      <td>265</td>\n",
       "      <td>40</td>\n",
       "      <td>28</td>\n",
       "      <td>8.0</td>\n",
       "      <td>1.00</td>\n",
       "      <td>1</td>\n",
       "    </tr>\n",
       "    <tr>\n",
       "      <th>107</th>\n",
       "      <td>36</td>\n",
       "      <td>Male</td>\n",
       "      <td>0.8</td>\n",
       "      <td>158</td>\n",
       "      <td>29</td>\n",
       "      <td>39</td>\n",
       "      <td>6.0</td>\n",
       "      <td>0.50</td>\n",
       "      <td>2</td>\n",
       "    </tr>\n",
       "    <tr>\n",
       "      <th>505</th>\n",
       "      <td>46</td>\n",
       "      <td>Male</td>\n",
       "      <td>20.0</td>\n",
       "      <td>254</td>\n",
       "      <td>140</td>\n",
       "      <td>540</td>\n",
       "      <td>5.4</td>\n",
       "      <td>1.20</td>\n",
       "      <td>1</td>\n",
       "    </tr>\n",
       "  </tbody>\n",
       "</table>\n",
       "</div>"
      ],
      "text/plain": [
       "     Age  Gender    TB  Alkphos  Sgpt  Sgot   TP  A_G_Ratio  Liver_Disease\n",
       "165   48    Male   4.5      282    13    74  7.0       0.52              1\n",
       "202   38  Female   0.8      145    19    23  6.1       1.03              2\n",
       "221   47    Male   0.9      265    40    28  8.0       1.00              1\n",
       "107   36    Male   0.8      158    29    39  6.0       0.50              2\n",
       "505   46    Male  20.0      254   140   540  5.4       1.20              1"
      ]
     },
     "execution_count": 18,
     "metadata": {},
     "output_type": "execute_result"
    }
   ],
   "source": [
    "df.sample(5)"
   ]
  },
  {
   "cell_type": "markdown",
   "id": "a009dd18",
   "metadata": {},
   "source": [
    "## 3 - Limpeza e Pré-processamento dos Dados\n",
    "\n",
    "### 3.1 - Tratamento de Valores Duplicados"
   ]
  },
  {
   "cell_type": "code",
   "execution_count": 19,
   "id": "0848f08a",
   "metadata": {},
   "outputs": [
    {
     "data": {
      "text/html": [
       "<div>\n",
       "<style scoped>\n",
       "    .dataframe tbody tr th:only-of-type {\n",
       "        vertical-align: middle;\n",
       "    }\n",
       "\n",
       "    .dataframe tbody tr th {\n",
       "        vertical-align: top;\n",
       "    }\n",
       "\n",
       "    .dataframe thead th {\n",
       "        text-align: right;\n",
       "    }\n",
       "</style>\n",
       "<table border=\"1\" class=\"dataframe\">\n",
       "  <thead>\n",
       "    <tr style=\"text-align: right;\">\n",
       "      <th></th>\n",
       "      <th>Age</th>\n",
       "      <th>Gender</th>\n",
       "      <th>TB</th>\n",
       "      <th>Alkphos</th>\n",
       "      <th>Sgpt</th>\n",
       "      <th>Sgot</th>\n",
       "      <th>TP</th>\n",
       "      <th>A_G_Ratio</th>\n",
       "      <th>Liver_Disease</th>\n",
       "    </tr>\n",
       "  </thead>\n",
       "  <tbody>\n",
       "    <tr>\n",
       "      <th>18</th>\n",
       "      <td>40</td>\n",
       "      <td>Female</td>\n",
       "      <td>0.9</td>\n",
       "      <td>293</td>\n",
       "      <td>232</td>\n",
       "      <td>245</td>\n",
       "      <td>6.8</td>\n",
       "      <td>0.80</td>\n",
       "      <td>1</td>\n",
       "    </tr>\n",
       "    <tr>\n",
       "      <th>19</th>\n",
       "      <td>40</td>\n",
       "      <td>Female</td>\n",
       "      <td>0.9</td>\n",
       "      <td>293</td>\n",
       "      <td>232</td>\n",
       "      <td>245</td>\n",
       "      <td>6.8</td>\n",
       "      <td>0.80</td>\n",
       "      <td>1</td>\n",
       "    </tr>\n",
       "    <tr>\n",
       "      <th>25</th>\n",
       "      <td>34</td>\n",
       "      <td>Male</td>\n",
       "      <td>4.1</td>\n",
       "      <td>289</td>\n",
       "      <td>875</td>\n",
       "      <td>731</td>\n",
       "      <td>5.0</td>\n",
       "      <td>1.10</td>\n",
       "      <td>1</td>\n",
       "    </tr>\n",
       "    <tr>\n",
       "      <th>26</th>\n",
       "      <td>34</td>\n",
       "      <td>Male</td>\n",
       "      <td>4.1</td>\n",
       "      <td>289</td>\n",
       "      <td>875</td>\n",
       "      <td>731</td>\n",
       "      <td>5.0</td>\n",
       "      <td>1.10</td>\n",
       "      <td>1</td>\n",
       "    </tr>\n",
       "    <tr>\n",
       "      <th>33</th>\n",
       "      <td>38</td>\n",
       "      <td>Female</td>\n",
       "      <td>2.6</td>\n",
       "      <td>410</td>\n",
       "      <td>59</td>\n",
       "      <td>57</td>\n",
       "      <td>5.6</td>\n",
       "      <td>0.80</td>\n",
       "      <td>2</td>\n",
       "    </tr>\n",
       "    <tr>\n",
       "      <th>34</th>\n",
       "      <td>38</td>\n",
       "      <td>Female</td>\n",
       "      <td>2.6</td>\n",
       "      <td>410</td>\n",
       "      <td>59</td>\n",
       "      <td>57</td>\n",
       "      <td>5.6</td>\n",
       "      <td>0.80</td>\n",
       "      <td>2</td>\n",
       "    </tr>\n",
       "    <tr>\n",
       "      <th>54</th>\n",
       "      <td>42</td>\n",
       "      <td>Male</td>\n",
       "      <td>8.9</td>\n",
       "      <td>272</td>\n",
       "      <td>31</td>\n",
       "      <td>61</td>\n",
       "      <td>5.8</td>\n",
       "      <td>0.50</td>\n",
       "      <td>1</td>\n",
       "    </tr>\n",
       "    <tr>\n",
       "      <th>55</th>\n",
       "      <td>42</td>\n",
       "      <td>Male</td>\n",
       "      <td>8.9</td>\n",
       "      <td>272</td>\n",
       "      <td>31</td>\n",
       "      <td>61</td>\n",
       "      <td>5.8</td>\n",
       "      <td>0.50</td>\n",
       "      <td>1</td>\n",
       "    </tr>\n",
       "    <tr>\n",
       "      <th>61</th>\n",
       "      <td>58</td>\n",
       "      <td>Male</td>\n",
       "      <td>1.0</td>\n",
       "      <td>158</td>\n",
       "      <td>37</td>\n",
       "      <td>43</td>\n",
       "      <td>7.2</td>\n",
       "      <td>1.00</td>\n",
       "      <td>1</td>\n",
       "    </tr>\n",
       "    <tr>\n",
       "      <th>62</th>\n",
       "      <td>58</td>\n",
       "      <td>Male</td>\n",
       "      <td>1.0</td>\n",
       "      <td>158</td>\n",
       "      <td>37</td>\n",
       "      <td>43</td>\n",
       "      <td>7.2</td>\n",
       "      <td>1.00</td>\n",
       "      <td>1</td>\n",
       "    </tr>\n",
       "    <tr>\n",
       "      <th>105</th>\n",
       "      <td>36</td>\n",
       "      <td>Male</td>\n",
       "      <td>5.3</td>\n",
       "      <td>145</td>\n",
       "      <td>32</td>\n",
       "      <td>92</td>\n",
       "      <td>5.1</td>\n",
       "      <td>1.00</td>\n",
       "      <td>2</td>\n",
       "    </tr>\n",
       "    <tr>\n",
       "      <th>106</th>\n",
       "      <td>36</td>\n",
       "      <td>Male</td>\n",
       "      <td>5.3</td>\n",
       "      <td>145</td>\n",
       "      <td>32</td>\n",
       "      <td>92</td>\n",
       "      <td>5.1</td>\n",
       "      <td>1.00</td>\n",
       "      <td>2</td>\n",
       "    </tr>\n",
       "    <tr>\n",
       "      <th>107</th>\n",
       "      <td>36</td>\n",
       "      <td>Male</td>\n",
       "      <td>0.8</td>\n",
       "      <td>158</td>\n",
       "      <td>29</td>\n",
       "      <td>39</td>\n",
       "      <td>6.0</td>\n",
       "      <td>0.50</td>\n",
       "      <td>2</td>\n",
       "    </tr>\n",
       "    <tr>\n",
       "      <th>108</th>\n",
       "      <td>36</td>\n",
       "      <td>Male</td>\n",
       "      <td>0.8</td>\n",
       "      <td>158</td>\n",
       "      <td>29</td>\n",
       "      <td>39</td>\n",
       "      <td>6.0</td>\n",
       "      <td>0.50</td>\n",
       "      <td>2</td>\n",
       "    </tr>\n",
       "    <tr>\n",
       "      <th>137</th>\n",
       "      <td>18</td>\n",
       "      <td>Male</td>\n",
       "      <td>0.8</td>\n",
       "      <td>282</td>\n",
       "      <td>72</td>\n",
       "      <td>140</td>\n",
       "      <td>5.5</td>\n",
       "      <td>0.80</td>\n",
       "      <td>1</td>\n",
       "    </tr>\n",
       "    <tr>\n",
       "      <th>138</th>\n",
       "      <td>18</td>\n",
       "      <td>Male</td>\n",
       "      <td>0.8</td>\n",
       "      <td>282</td>\n",
       "      <td>72</td>\n",
       "      <td>140</td>\n",
       "      <td>5.5</td>\n",
       "      <td>0.80</td>\n",
       "      <td>1</td>\n",
       "    </tr>\n",
       "    <tr>\n",
       "      <th>142</th>\n",
       "      <td>30</td>\n",
       "      <td>Male</td>\n",
       "      <td>1.6</td>\n",
       "      <td>332</td>\n",
       "      <td>84</td>\n",
       "      <td>139</td>\n",
       "      <td>5.6</td>\n",
       "      <td>0.90</td>\n",
       "      <td>1</td>\n",
       "    </tr>\n",
       "    <tr>\n",
       "      <th>143</th>\n",
       "      <td>30</td>\n",
       "      <td>Male</td>\n",
       "      <td>1.6</td>\n",
       "      <td>332</td>\n",
       "      <td>84</td>\n",
       "      <td>139</td>\n",
       "      <td>5.6</td>\n",
       "      <td>0.90</td>\n",
       "      <td>1</td>\n",
       "    </tr>\n",
       "    <tr>\n",
       "      <th>157</th>\n",
       "      <td>72</td>\n",
       "      <td>Male</td>\n",
       "      <td>0.7</td>\n",
       "      <td>196</td>\n",
       "      <td>20</td>\n",
       "      <td>35</td>\n",
       "      <td>5.8</td>\n",
       "      <td>0.50</td>\n",
       "      <td>1</td>\n",
       "    </tr>\n",
       "    <tr>\n",
       "      <th>158</th>\n",
       "      <td>72</td>\n",
       "      <td>Male</td>\n",
       "      <td>0.7</td>\n",
       "      <td>196</td>\n",
       "      <td>20</td>\n",
       "      <td>35</td>\n",
       "      <td>5.8</td>\n",
       "      <td>0.50</td>\n",
       "      <td>1</td>\n",
       "    </tr>\n",
       "    <tr>\n",
       "      <th>163</th>\n",
       "      <td>39</td>\n",
       "      <td>Male</td>\n",
       "      <td>1.9</td>\n",
       "      <td>180</td>\n",
       "      <td>42</td>\n",
       "      <td>62</td>\n",
       "      <td>7.4</td>\n",
       "      <td>1.38</td>\n",
       "      <td>1</td>\n",
       "    </tr>\n",
       "    <tr>\n",
       "      <th>164</th>\n",
       "      <td>39</td>\n",
       "      <td>Male</td>\n",
       "      <td>1.9</td>\n",
       "      <td>180</td>\n",
       "      <td>42</td>\n",
       "      <td>62</td>\n",
       "      <td>7.4</td>\n",
       "      <td>1.38</td>\n",
       "      <td>1</td>\n",
       "    </tr>\n",
       "    <tr>\n",
       "      <th>173</th>\n",
       "      <td>31</td>\n",
       "      <td>Male</td>\n",
       "      <td>0.6</td>\n",
       "      <td>175</td>\n",
       "      <td>48</td>\n",
       "      <td>34</td>\n",
       "      <td>6.0</td>\n",
       "      <td>1.60</td>\n",
       "      <td>1</td>\n",
       "    </tr>\n",
       "    <tr>\n",
       "      <th>174</th>\n",
       "      <td>31</td>\n",
       "      <td>Male</td>\n",
       "      <td>0.6</td>\n",
       "      <td>175</td>\n",
       "      <td>48</td>\n",
       "      <td>34</td>\n",
       "      <td>6.0</td>\n",
       "      <td>1.60</td>\n",
       "      <td>1</td>\n",
       "    </tr>\n",
       "    <tr>\n",
       "      <th>200</th>\n",
       "      <td>49</td>\n",
       "      <td>Male</td>\n",
       "      <td>0.6</td>\n",
       "      <td>218</td>\n",
       "      <td>50</td>\n",
       "      <td>53</td>\n",
       "      <td>5.0</td>\n",
       "      <td>0.90</td>\n",
       "      <td>1</td>\n",
       "    </tr>\n",
       "    <tr>\n",
       "      <th>201</th>\n",
       "      <td>49</td>\n",
       "      <td>Male</td>\n",
       "      <td>0.6</td>\n",
       "      <td>218</td>\n",
       "      <td>50</td>\n",
       "      <td>53</td>\n",
       "      <td>5.0</td>\n",
       "      <td>0.90</td>\n",
       "      <td>1</td>\n",
       "    </tr>\n",
       "  </tbody>\n",
       "</table>\n",
       "</div>"
      ],
      "text/plain": [
       "     Age  Gender   TB  Alkphos  Sgpt  Sgot   TP  A_G_Ratio  Liver_Disease\n",
       "18    40  Female  0.9      293   232   245  6.8       0.80              1\n",
       "19    40  Female  0.9      293   232   245  6.8       0.80              1\n",
       "25    34    Male  4.1      289   875   731  5.0       1.10              1\n",
       "26    34    Male  4.1      289   875   731  5.0       1.10              1\n",
       "33    38  Female  2.6      410    59    57  5.6       0.80              2\n",
       "34    38  Female  2.6      410    59    57  5.6       0.80              2\n",
       "54    42    Male  8.9      272    31    61  5.8       0.50              1\n",
       "55    42    Male  8.9      272    31    61  5.8       0.50              1\n",
       "61    58    Male  1.0      158    37    43  7.2       1.00              1\n",
       "62    58    Male  1.0      158    37    43  7.2       1.00              1\n",
       "105   36    Male  5.3      145    32    92  5.1       1.00              2\n",
       "106   36    Male  5.3      145    32    92  5.1       1.00              2\n",
       "107   36    Male  0.8      158    29    39  6.0       0.50              2\n",
       "108   36    Male  0.8      158    29    39  6.0       0.50              2\n",
       "137   18    Male  0.8      282    72   140  5.5       0.80              1\n",
       "138   18    Male  0.8      282    72   140  5.5       0.80              1\n",
       "142   30    Male  1.6      332    84   139  5.6       0.90              1\n",
       "143   30    Male  1.6      332    84   139  5.6       0.90              1\n",
       "157   72    Male  0.7      196    20    35  5.8       0.50              1\n",
       "158   72    Male  0.7      196    20    35  5.8       0.50              1\n",
       "163   39    Male  1.9      180    42    62  7.4       1.38              1\n",
       "164   39    Male  1.9      180    42    62  7.4       1.38              1\n",
       "173   31    Male  0.6      175    48    34  6.0       1.60              1\n",
       "174   31    Male  0.6      175    48    34  6.0       1.60              1\n",
       "200   49    Male  0.6      218    50    53  5.0       0.90              1\n",
       "201   49    Male  0.6      218    50    53  5.0       0.90              1"
      ]
     },
     "execution_count": 19,
     "metadata": {},
     "output_type": "execute_result"
    }
   ],
   "source": [
    "# Buscando no dataset registros idênticos (com todas as informações iguais)\n",
    "df[df.duplicated(keep = False)]"
   ]
  },
  {
   "cell_type": "markdown",
   "id": "57a4b03e",
   "metadata": {},
   "source": [
    "> O conjunto de dados apresenta diversos valores duplicados. É preciso removê-los."
   ]
  },
  {
   "cell_type": "code",
   "execution_count": 20,
   "id": "abe192c4",
   "metadata": {},
   "outputs": [
    {
     "data": {
      "text/plain": [
       "(579, 9)"
      ]
     },
     "execution_count": 20,
     "metadata": {},
     "output_type": "execute_result"
    }
   ],
   "source": [
    "df.shape"
   ]
  },
  {
   "cell_type": "code",
   "execution_count": 21,
   "id": "3198cba3",
   "metadata": {},
   "outputs": [],
   "source": [
    "# Removendo os valores duplicados e resetando os índices\n",
    "df = df.drop_duplicates()\n",
    "df.reset_index(inplace=True, drop=True)"
   ]
  },
  {
   "cell_type": "code",
   "execution_count": 22,
   "id": "2a74815b",
   "metadata": {},
   "outputs": [
    {
     "data": {
      "text/plain": [
       "(566, 9)"
      ]
     },
     "execution_count": 22,
     "metadata": {},
     "output_type": "execute_result"
    }
   ],
   "source": [
    "df.shape"
   ]
  },
  {
   "cell_type": "markdown",
   "id": "e9943e5d",
   "metadata": {},
   "source": [
    "### 3.2 - Substituição de valores\n",
    "\n",
    "* Codificação da variável categórica `Gender`, utilizando a técnica de Label Encoding."
   ]
  },
  {
   "cell_type": "code",
   "execution_count": 23,
   "id": "d4684875",
   "metadata": {},
   "outputs": [],
   "source": [
    "# Instanciando um objeto do tipo LabelEncoder\n",
    "le = LabelEncoder()"
   ]
  },
  {
   "cell_type": "code",
   "execution_count": 24,
   "id": "9584eb05",
   "metadata": {},
   "outputs": [
    {
     "name": "stdout",
     "output_type": "stream",
     "text": [
      "As classes para a variável Gender são: ['Female', 'Male']\n"
     ]
    }
   ],
   "source": [
    "# Aplicando o LabelEncoder\n",
    "le.fit(df['Gender'])\n",
    "df['Gender'] = le.transform(df['Gender'])\n",
    "print(f'As classes para a variável Gender são: {list(le.classes_)}')"
   ]
  },
  {
   "cell_type": "code",
   "execution_count": 25,
   "id": "441a5748",
   "metadata": {},
   "outputs": [
    {
     "data": {
      "text/html": [
       "<div>\n",
       "<style scoped>\n",
       "    .dataframe tbody tr th:only-of-type {\n",
       "        vertical-align: middle;\n",
       "    }\n",
       "\n",
       "    .dataframe tbody tr th {\n",
       "        vertical-align: top;\n",
       "    }\n",
       "\n",
       "    .dataframe thead th {\n",
       "        text-align: right;\n",
       "    }\n",
       "</style>\n",
       "<table border=\"1\" class=\"dataframe\">\n",
       "  <thead>\n",
       "    <tr style=\"text-align: right;\">\n",
       "      <th></th>\n",
       "      <th>Age</th>\n",
       "      <th>Gender</th>\n",
       "      <th>TB</th>\n",
       "      <th>Alkphos</th>\n",
       "      <th>Sgpt</th>\n",
       "      <th>Sgot</th>\n",
       "      <th>TP</th>\n",
       "      <th>A_G_Ratio</th>\n",
       "      <th>Liver_Disease</th>\n",
       "    </tr>\n",
       "  </thead>\n",
       "  <tbody>\n",
       "    <tr>\n",
       "      <th>280</th>\n",
       "      <td>74</td>\n",
       "      <td>0</td>\n",
       "      <td>0.9</td>\n",
       "      <td>234</td>\n",
       "      <td>16</td>\n",
       "      <td>19</td>\n",
       "      <td>7.9</td>\n",
       "      <td>1.00</td>\n",
       "      <td>1</td>\n",
       "    </tr>\n",
       "    <tr>\n",
       "      <th>19</th>\n",
       "      <td>51</td>\n",
       "      <td>1</td>\n",
       "      <td>2.2</td>\n",
       "      <td>610</td>\n",
       "      <td>17</td>\n",
       "      <td>28</td>\n",
       "      <td>7.3</td>\n",
       "      <td>0.55</td>\n",
       "      <td>1</td>\n",
       "    </tr>\n",
       "    <tr>\n",
       "      <th>99</th>\n",
       "      <td>63</td>\n",
       "      <td>1</td>\n",
       "      <td>0.5</td>\n",
       "      <td>170</td>\n",
       "      <td>21</td>\n",
       "      <td>28</td>\n",
       "      <td>5.5</td>\n",
       "      <td>0.80</td>\n",
       "      <td>1</td>\n",
       "    </tr>\n",
       "    <tr>\n",
       "      <th>75</th>\n",
       "      <td>58</td>\n",
       "      <td>0</td>\n",
       "      <td>2.4</td>\n",
       "      <td>915</td>\n",
       "      <td>60</td>\n",
       "      <td>142</td>\n",
       "      <td>4.7</td>\n",
       "      <td>0.60</td>\n",
       "      <td>1</td>\n",
       "    </tr>\n",
       "    <tr>\n",
       "      <th>413</th>\n",
       "      <td>53</td>\n",
       "      <td>0</td>\n",
       "      <td>0.7</td>\n",
       "      <td>182</td>\n",
       "      <td>20</td>\n",
       "      <td>33</td>\n",
       "      <td>4.8</td>\n",
       "      <td>0.60</td>\n",
       "      <td>1</td>\n",
       "    </tr>\n",
       "  </tbody>\n",
       "</table>\n",
       "</div>"
      ],
      "text/plain": [
       "     Age  Gender   TB  Alkphos  Sgpt  Sgot   TP  A_G_Ratio  Liver_Disease\n",
       "280   74       0  0.9      234    16    19  7.9       1.00              1\n",
       "19    51       1  2.2      610    17    28  7.3       0.55              1\n",
       "99    63       1  0.5      170    21    28  5.5       0.80              1\n",
       "75    58       0  2.4      915    60   142  4.7       0.60              1\n",
       "413   53       0  0.7      182    20    33  4.8       0.60              1"
      ]
     },
     "execution_count": 25,
     "metadata": {},
     "output_type": "execute_result"
    }
   ],
   "source": [
    "df.sample(5)"
   ]
  },
  {
   "cell_type": "code",
   "execution_count": 26,
   "id": "702a4a25",
   "metadata": {},
   "outputs": [
    {
     "data": {
      "text/plain": [
       "1    428\n",
       "0    138\n",
       "Name: Gender, dtype: int64"
      ]
     },
     "execution_count": 26,
     "metadata": {},
     "output_type": "execute_result"
    }
   ],
   "source": [
    "df.Gender.value_counts()"
   ]
  },
  {
   "cell_type": "markdown",
   "id": "50c2832f",
   "metadata": {},
   "source": [
    "### 3.3 - Tratamento de Outliers\n",
    "\n",
    "Como dito anteriormente, as colunas `TB`, `DB`, `Alkphos`, `Sgpt` e `Sgot` possuem alguns valores muito distantes de suas respectivas médias e medianas, ou seja, são prováveis outliers. Para essas colunas, pode-se perceber que os valores extremos aparecem poucas vezes. Os outliers das colunas `Alkphos`, `Sgpt` e `Sgot`apresentam uma ordem de grandeza muito maior em relação à média e mediana deles. Ainda assim, realizando pesquisas na área, é possivel existir valores bastante altos para essas variáveis. Portanto, a **decisão tomada** será realizar a separação dessas variáveis em categorias. As categorias serão:\n",
    "\n",
    "**Categoria Utilizadas:**\n",
    "\n",
    "1. Abaixo do vr (0) - abaixo do valor de referência\n",
    "2. Dentro do vr (1) - dentro do valor de referência\n",
    "3. Valor Elevado (2) - até 10x o valor de referência\n",
    "3. Valor alto (3) - até 100x o valor de referência\n",
    "4. Valor muito alto (4) - acima de 100x o valor de referência\n",
    "\n",
    "\n",
    "Para aplicar a categorização das variáveis será utilizado os valores de referência dos marcadores bioquímicos.\n",
    "\n",
    "**Valores de Referência:**\n",
    "\n",
    "1. Bilirrubina Total: entre 0.2 e 1.2\n",
    "2. fosfatase alcalina: entre 40 e 150\n",
    "3. Alanina Aminotransferase: entre 7 e 56\n",
    "4. Aspartato Aminotransferase: entre 5 e 40\n",
    "\n",
    "Alguns desses valores variam de acordo com o laboratório, a idade do paciente e o sexo. Porém, para simplificar, serão utilizados esses valores de referência para a categorização dos dados. "
   ]
  },
  {
   "cell_type": "code",
   "execution_count": 27,
   "id": "e9067c52",
   "metadata": {},
   "outputs": [],
   "source": [
    "lista_categorias = [0, 1, 2, 3, 4]"
   ]
  },
  {
   "cell_type": "code",
   "execution_count": 28,
   "id": "3cfac326",
   "metadata": {},
   "outputs": [
    {
     "data": {
      "text/plain": [
       "1    322\n",
       "2    202\n",
       "3     42\n",
       "0      0\n",
       "4      0\n",
       "Name: TB_cat, dtype: int64"
      ]
     },
     "execution_count": 28,
     "metadata": {},
     "output_type": "execute_result"
    }
   ],
   "source": [
    "# Bilirrubina Total\n",
    "df['TB_cat'] = pd.cut(x = df['TB'], bins = [0, 0.2, 1.2, 10*1.2, 100*1.2, 1000*1.2], labels = lista_categorias)\n",
    "df['TB_cat'].value_counts()"
   ]
  },
  {
   "cell_type": "code",
   "execution_count": 29,
   "id": "2ccb66e2",
   "metadata": {},
   "outputs": [
    {
     "data": {
      "text/plain": [
       "2    501\n",
       "1     58\n",
       "3      7\n",
       "0      0\n",
       "4      0\n",
       "Name: Alkphos_cat, dtype: int64"
      ]
     },
     "execution_count": 29,
     "metadata": {},
     "output_type": "execute_result"
    }
   ],
   "source": [
    "# Fosfatase alcalina\n",
    "df['Alkphos_cat'] = pd.cut(x = df['Alkphos'], bins = [0, 40, 150, 10*150, 100*150, 1000*150], labels = lista_categorias)\n",
    "df['Alkphos_cat'].value_counts()"
   ]
  },
  {
   "cell_type": "code",
   "execution_count": 30,
   "id": "2539af00",
   "metadata": {},
   "outputs": [
    {
     "data": {
      "text/plain": [
       "1    409\n",
       "2    146\n",
       "3     11\n",
       "0      0\n",
       "4      0\n",
       "Name: Sgpt_cat, dtype: int64"
      ]
     },
     "execution_count": 30,
     "metadata": {},
     "output_type": "execute_result"
    }
   ],
   "source": [
    "# Alanina Aminotransferase\n",
    "df['Sgpt_cat'] = pd.cut(x = df['Sgpt'], bins = [0, 7, 56, 10*56, 100*56, 1000*56], labels = lista_categorias)\n",
    "df['Sgpt_cat'].value_counts()"
   ]
  },
  {
   "cell_type": "code",
   "execution_count": 31,
   "id": "29f938f5",
   "metadata": {},
   "outputs": [
    {
     "data": {
      "text/plain": [
       "1    278\n",
       "2    259\n",
       "3     28\n",
       "4      1\n",
       "0      0\n",
       "Name: Sgot_cat, dtype: int64"
      ]
     },
     "execution_count": 31,
     "metadata": {},
     "output_type": "execute_result"
    }
   ],
   "source": [
    "# Aspartato Aminotransferase\n",
    "df['Sgot_cat'] = pd.cut(x = df['Sgot'], bins = [0, 5, 40, 10*40, 100*40, 1000*40], labels = lista_categorias)\n",
    "df['Sgot_cat'].value_counts()"
   ]
  },
  {
   "cell_type": "code",
   "execution_count": 32,
   "id": "e821ed3c",
   "metadata": {},
   "outputs": [
    {
     "name": "stdout",
     "output_type": "stream",
     "text": [
      "<class 'pandas.core.frame.DataFrame'>\n",
      "RangeIndex: 566 entries, 0 to 565\n",
      "Data columns (total 13 columns):\n",
      " #   Column         Non-Null Count  Dtype  \n",
      "---  ------         --------------  -----  \n",
      " 0   Age            566 non-null    int64  \n",
      " 1   Gender         566 non-null    int32  \n",
      " 2   TB             566 non-null    float64\n",
      " 3   Alkphos        566 non-null    int64  \n",
      " 4   Sgpt           566 non-null    int64  \n",
      " 5   Sgot           566 non-null    int64  \n",
      " 6   TP             566 non-null    float64\n",
      " 7   A_G_Ratio      566 non-null    float64\n",
      " 8   Liver_Disease  566 non-null    int64  \n",
      " 9   TB_cat         566 non-null    int32  \n",
      " 10  Alkphos_cat    566 non-null    int32  \n",
      " 11  Sgpt_cat       566 non-null    int32  \n",
      " 12  Sgot_cat       566 non-null    int32  \n",
      "dtypes: float64(3), int32(5), int64(5)\n",
      "memory usage: 46.6 KB\n"
     ]
    }
   ],
   "source": [
    "# Transformando as novas colunas em dados inteiros\n",
    "df = df.astype({'TB_cat': 'int32',\n",
    "                     'Alkphos_cat': 'int32',\n",
    "                     'Sgpt_cat': 'int32',\n",
    "                     'Sgot_cat': 'int32'})\n",
    "df.info()"
   ]
  },
  {
   "cell_type": "markdown",
   "id": "12367bfb",
   "metadata": {},
   "source": [
    "### 3.4 - Padronização dos dados\n",
    "\n",
    "##### Standard Scaler"
   ]
  },
  {
   "cell_type": "code",
   "execution_count": 33,
   "id": "2722d80e",
   "metadata": {},
   "outputs": [
    {
     "data": {
      "text/html": [
       "<div>\n",
       "<style scoped>\n",
       "    .dataframe tbody tr th:only-of-type {\n",
       "        vertical-align: middle;\n",
       "    }\n",
       "\n",
       "    .dataframe tbody tr th {\n",
       "        vertical-align: top;\n",
       "    }\n",
       "\n",
       "    .dataframe thead th {\n",
       "        text-align: right;\n",
       "    }\n",
       "</style>\n",
       "<table border=\"1\" class=\"dataframe\">\n",
       "  <thead>\n",
       "    <tr style=\"text-align: right;\">\n",
       "      <th></th>\n",
       "      <th>Age</th>\n",
       "      <th>TP</th>\n",
       "      <th>A_G_Ratio</th>\n",
       "    </tr>\n",
       "  </thead>\n",
       "  <tbody>\n",
       "    <tr>\n",
       "      <th>499</th>\n",
       "      <td>60</td>\n",
       "      <td>6.7</td>\n",
       "      <td>0.80</td>\n",
       "    </tr>\n",
       "    <tr>\n",
       "      <th>33</th>\n",
       "      <td>17</td>\n",
       "      <td>7.2</td>\n",
       "      <td>1.18</td>\n",
       "    </tr>\n",
       "    <tr>\n",
       "      <th>117</th>\n",
       "      <td>28</td>\n",
       "      <td>6.9</td>\n",
       "      <td>1.40</td>\n",
       "    </tr>\n",
       "    <tr>\n",
       "      <th>289</th>\n",
       "      <td>54</td>\n",
       "      <td>7.9</td>\n",
       "      <td>0.90</td>\n",
       "    </tr>\n",
       "    <tr>\n",
       "      <th>203</th>\n",
       "      <td>49</td>\n",
       "      <td>7.0</td>\n",
       "      <td>1.50</td>\n",
       "    </tr>\n",
       "  </tbody>\n",
       "</table>\n",
       "</div>"
      ],
      "text/plain": [
       "     Age   TP  A_G_Ratio\n",
       "499   60  6.7       0.80\n",
       "33    17  7.2       1.18\n",
       "117   28  6.9       1.40\n",
       "289   54  7.9       0.90\n",
       "203   49  7.0       1.50"
      ]
     },
     "execution_count": 33,
     "metadata": {},
     "output_type": "execute_result"
    }
   ],
   "source": [
    "df_num = df[['Age', 'TP', 'A_G_Ratio']]\n",
    "df_num.sample(5)"
   ]
  },
  {
   "cell_type": "code",
   "execution_count": 34,
   "id": "667b30e2",
   "metadata": {},
   "outputs": [],
   "source": [
    "# Instanciando um objeto do tipo StandardScaler \n",
    "stdscaler = StandardScaler()"
   ]
  },
  {
   "cell_type": "code",
   "execution_count": 35,
   "id": "c79bfed3",
   "metadata": {},
   "outputs": [
    {
     "data": {
      "text/html": [
       "<div>\n",
       "<style scoped>\n",
       "    .dataframe tbody tr th:only-of-type {\n",
       "        vertical-align: middle;\n",
       "    }\n",
       "\n",
       "    .dataframe tbody tr th {\n",
       "        vertical-align: top;\n",
       "    }\n",
       "\n",
       "    .dataframe thead th {\n",
       "        text-align: right;\n",
       "    }\n",
       "</style>\n",
       "<table border=\"1\" class=\"dataframe\">\n",
       "  <thead>\n",
       "    <tr style=\"text-align: right;\">\n",
       "      <th></th>\n",
       "      <th>Age</th>\n",
       "      <th>TP</th>\n",
       "      <th>A_G_Ratio</th>\n",
       "    </tr>\n",
       "  </thead>\n",
       "  <tbody>\n",
       "    <tr>\n",
       "      <th>0</th>\n",
       "      <td>1.236928</td>\n",
       "      <td>0.280819</td>\n",
       "      <td>-0.150315</td>\n",
       "    </tr>\n",
       "    <tr>\n",
       "      <th>1</th>\n",
       "      <td>1.052432</td>\n",
       "      <td>0.925059</td>\n",
       "      <td>-0.651328</td>\n",
       "    </tr>\n",
       "    <tr>\n",
       "      <th>2</th>\n",
       "      <td>1.052432</td>\n",
       "      <td>0.464887</td>\n",
       "      <td>-0.181628</td>\n",
       "    </tr>\n",
       "    <tr>\n",
       "      <th>3</th>\n",
       "      <td>0.806437</td>\n",
       "      <td>0.280819</td>\n",
       "      <td>0.162818</td>\n",
       "    </tr>\n",
       "    <tr>\n",
       "      <th>4</th>\n",
       "      <td>1.667418</td>\n",
       "      <td>0.740991</td>\n",
       "      <td>-1.715981</td>\n",
       "    </tr>\n",
       "  </tbody>\n",
       "</table>\n",
       "</div>"
      ],
      "text/plain": [
       "        Age        TP  A_G_Ratio\n",
       "0  1.236928  0.280819  -0.150315\n",
       "1  1.052432  0.925059  -0.651328\n",
       "2  1.052432  0.464887  -0.181628\n",
       "3  0.806437  0.280819   0.162818\n",
       "4  1.667418  0.740991  -1.715981"
      ]
     },
     "execution_count": 35,
     "metadata": {},
     "output_type": "execute_result"
    }
   ],
   "source": [
    "# Aplicando o StandardScaler\n",
    "scaler = stdscaler.fit_transform(df_num)\n",
    "\n",
    "df_scaler = pd.DataFrame(scaler, columns=['Age', 'TP', 'A_G_Ratio'])\n",
    "df_scaler.head()"
   ]
  },
  {
   "cell_type": "code",
   "execution_count": 36,
   "id": "e0e8226c",
   "metadata": {},
   "outputs": [
    {
     "data": {
      "text/html": [
       "<div>\n",
       "<style scoped>\n",
       "    .dataframe tbody tr th:only-of-type {\n",
       "        vertical-align: middle;\n",
       "    }\n",
       "\n",
       "    .dataframe tbody tr th {\n",
       "        vertical-align: top;\n",
       "    }\n",
       "\n",
       "    .dataframe thead th {\n",
       "        text-align: right;\n",
       "    }\n",
       "</style>\n",
       "<table border=\"1\" class=\"dataframe\">\n",
       "  <thead>\n",
       "    <tr style=\"text-align: right;\">\n",
       "      <th></th>\n",
       "      <th>Gender</th>\n",
       "      <th>Liver_Disease</th>\n",
       "      <th>TB_cat</th>\n",
       "      <th>Alkphos_cat</th>\n",
       "      <th>Sgpt_cat</th>\n",
       "      <th>Sgot_cat</th>\n",
       "    </tr>\n",
       "  </thead>\n",
       "  <tbody>\n",
       "    <tr>\n",
       "      <th>0</th>\n",
       "      <td>0</td>\n",
       "      <td>1</td>\n",
       "      <td>1</td>\n",
       "      <td>2</td>\n",
       "      <td>1</td>\n",
       "      <td>1</td>\n",
       "    </tr>\n",
       "    <tr>\n",
       "      <th>1</th>\n",
       "      <td>1</td>\n",
       "      <td>1</td>\n",
       "      <td>2</td>\n",
       "      <td>2</td>\n",
       "      <td>2</td>\n",
       "      <td>2</td>\n",
       "    </tr>\n",
       "    <tr>\n",
       "      <th>2</th>\n",
       "      <td>1</td>\n",
       "      <td>1</td>\n",
       "      <td>2</td>\n",
       "      <td>2</td>\n",
       "      <td>2</td>\n",
       "      <td>2</td>\n",
       "    </tr>\n",
       "    <tr>\n",
       "      <th>3</th>\n",
       "      <td>1</td>\n",
       "      <td>1</td>\n",
       "      <td>1</td>\n",
       "      <td>2</td>\n",
       "      <td>1</td>\n",
       "      <td>1</td>\n",
       "    </tr>\n",
       "    <tr>\n",
       "      <th>4</th>\n",
       "      <td>1</td>\n",
       "      <td>1</td>\n",
       "      <td>2</td>\n",
       "      <td>2</td>\n",
       "      <td>1</td>\n",
       "      <td>2</td>\n",
       "    </tr>\n",
       "  </tbody>\n",
       "</table>\n",
       "</div>"
      ],
      "text/plain": [
       "   Gender  Liver_Disease  TB_cat  Alkphos_cat  Sgpt_cat  Sgot_cat\n",
       "0       0              1       1            2         1         1\n",
       "1       1              1       2            2         2         2\n",
       "2       1              1       2            2         2         2\n",
       "3       1              1       1            2         1         1\n",
       "4       1              1       2            2         1         2"
      ]
     },
     "execution_count": 36,
     "metadata": {},
     "output_type": "execute_result"
    }
   ],
   "source": [
    "df.drop(['Age', 'TP', 'A_G_Ratio', 'TB', 'Alkphos', 'Sgpt', 'Sgot'], inplace = True, axis = 1)\n",
    "df.head()"
   ]
  },
  {
   "cell_type": "code",
   "execution_count": 37,
   "id": "9f0efbb5",
   "metadata": {},
   "outputs": [
    {
     "data": {
      "text/html": [
       "<div>\n",
       "<style scoped>\n",
       "    .dataframe tbody tr th:only-of-type {\n",
       "        vertical-align: middle;\n",
       "    }\n",
       "\n",
       "    .dataframe tbody tr th {\n",
       "        vertical-align: top;\n",
       "    }\n",
       "\n",
       "    .dataframe thead th {\n",
       "        text-align: right;\n",
       "    }\n",
       "</style>\n",
       "<table border=\"1\" class=\"dataframe\">\n",
       "  <thead>\n",
       "    <tr style=\"text-align: right;\">\n",
       "      <th></th>\n",
       "      <th>Gender</th>\n",
       "      <th>Liver_Disease</th>\n",
       "      <th>TB_cat</th>\n",
       "      <th>Alkphos_cat</th>\n",
       "      <th>Sgpt_cat</th>\n",
       "      <th>Sgot_cat</th>\n",
       "      <th>Age</th>\n",
       "      <th>TP</th>\n",
       "      <th>A_G_Ratio</th>\n",
       "    </tr>\n",
       "  </thead>\n",
       "  <tbody>\n",
       "    <tr>\n",
       "      <th>0</th>\n",
       "      <td>0</td>\n",
       "      <td>1</td>\n",
       "      <td>1</td>\n",
       "      <td>2</td>\n",
       "      <td>1</td>\n",
       "      <td>1</td>\n",
       "      <td>1.236928</td>\n",
       "      <td>0.280819</td>\n",
       "      <td>-0.150315</td>\n",
       "    </tr>\n",
       "    <tr>\n",
       "      <th>1</th>\n",
       "      <td>1</td>\n",
       "      <td>1</td>\n",
       "      <td>2</td>\n",
       "      <td>2</td>\n",
       "      <td>2</td>\n",
       "      <td>2</td>\n",
       "      <td>1.052432</td>\n",
       "      <td>0.925059</td>\n",
       "      <td>-0.651328</td>\n",
       "    </tr>\n",
       "    <tr>\n",
       "      <th>2</th>\n",
       "      <td>1</td>\n",
       "      <td>1</td>\n",
       "      <td>2</td>\n",
       "      <td>2</td>\n",
       "      <td>2</td>\n",
       "      <td>2</td>\n",
       "      <td>1.052432</td>\n",
       "      <td>0.464887</td>\n",
       "      <td>-0.181628</td>\n",
       "    </tr>\n",
       "    <tr>\n",
       "      <th>3</th>\n",
       "      <td>1</td>\n",
       "      <td>1</td>\n",
       "      <td>1</td>\n",
       "      <td>2</td>\n",
       "      <td>1</td>\n",
       "      <td>1</td>\n",
       "      <td>0.806437</td>\n",
       "      <td>0.280819</td>\n",
       "      <td>0.162818</td>\n",
       "    </tr>\n",
       "    <tr>\n",
       "      <th>4</th>\n",
       "      <td>1</td>\n",
       "      <td>1</td>\n",
       "      <td>2</td>\n",
       "      <td>2</td>\n",
       "      <td>1</td>\n",
       "      <td>2</td>\n",
       "      <td>1.667418</td>\n",
       "      <td>0.740991</td>\n",
       "      <td>-1.715981</td>\n",
       "    </tr>\n",
       "  </tbody>\n",
       "</table>\n",
       "</div>"
      ],
      "text/plain": [
       "   Gender  Liver_Disease  TB_cat  Alkphos_cat  Sgpt_cat  Sgot_cat       Age  \\\n",
       "0       0              1       1            2         1         1  1.236928   \n",
       "1       1              1       2            2         2         2  1.052432   \n",
       "2       1              1       2            2         2         2  1.052432   \n",
       "3       1              1       1            2         1         1  0.806437   \n",
       "4       1              1       2            2         1         2  1.667418   \n",
       "\n",
       "         TP  A_G_Ratio  \n",
       "0  0.280819  -0.150315  \n",
       "1  0.925059  -0.651328  \n",
       "2  0.464887  -0.181628  \n",
       "3  0.280819   0.162818  \n",
       "4  0.740991  -1.715981  "
      ]
     },
     "execution_count": 37,
     "metadata": {},
     "output_type": "execute_result"
    }
   ],
   "source": [
    "# Concatenando os dados já padronizados no dataframe\n",
    "df_final = pd.concat([df, df_scaler], axis = 1)\n",
    "df_final.head()"
   ]
  },
  {
   "cell_type": "code",
   "execution_count": 38,
   "id": "5499f74b",
   "metadata": {},
   "outputs": [
    {
     "name": "stdout",
     "output_type": "stream",
     "text": [
      "<class 'pandas.core.frame.DataFrame'>\n",
      "RangeIndex: 566 entries, 0 to 565\n",
      "Data columns (total 9 columns):\n",
      " #   Column         Non-Null Count  Dtype  \n",
      "---  ------         --------------  -----  \n",
      " 0   Gender         566 non-null    int32  \n",
      " 1   Liver_Disease  566 non-null    int64  \n",
      " 2   TB_cat         566 non-null    int32  \n",
      " 3   Alkphos_cat    566 non-null    int32  \n",
      " 4   Sgpt_cat       566 non-null    int32  \n",
      " 5   Sgot_cat       566 non-null    int32  \n",
      " 6   Age            566 non-null    float64\n",
      " 7   TP             566 non-null    float64\n",
      " 8   A_G_Ratio      566 non-null    float64\n",
      "dtypes: float64(3), int32(5), int64(1)\n",
      "memory usage: 28.9 KB\n"
     ]
    }
   ],
   "source": [
    "df_final.info()"
   ]
  },
  {
   "cell_type": "markdown",
   "id": "9369ef86",
   "metadata": {},
   "source": [
    "### 3.5 - Divisão dos Dados e Balanceamento de Classe\n",
    "\n",
    "Divisão dos dados, com proporção 80/20.\n",
    "\n",
    "Para o balanceamento da variável alvo, utilizaremos o SMOTE, uma estratégia de oversampling, que aumenta o número de exemplos da classe minoritária, criando dados sintéticos, utilizando como base os dados existentes."
   ]
  },
  {
   "cell_type": "code",
   "execution_count": 39,
   "id": "7a6e0219",
   "metadata": {},
   "outputs": [],
   "source": [
    "# Separação da variável alvo\n",
    "y = df_final['Liver_Disease']"
   ]
  },
  {
   "cell_type": "code",
   "execution_count": 40,
   "id": "990be805",
   "metadata": {},
   "outputs": [],
   "source": [
    "# Separação das variáveis preditoras\n",
    "x = df_final.drop('Liver_Disease', axis=1)"
   ]
  },
  {
   "cell_type": "code",
   "execution_count": 41,
   "id": "460f039a",
   "metadata": {},
   "outputs": [],
   "source": [
    "# Divisão em teste e treino\n",
    "x_treino, x_teste, y_treino, y_teste = train_test_split(x, \n",
    "                                                        y, \n",
    "                                                        test_size = 0.2, \n",
    "                                                        random_state = 1,\n",
    "                                                        stratify = y)"
   ]
  },
  {
   "cell_type": "code",
   "execution_count": 42,
   "id": "628fd89c",
   "metadata": {},
   "outputs": [],
   "source": [
    "# Instanciando um objeto do tipo SMOTE\n",
    "smote = SMOTE(k_neighbors = 3, random_state = 1)"
   ]
  },
  {
   "cell_type": "code",
   "execution_count": 43,
   "id": "59fd1ec8",
   "metadata": {},
   "outputs": [],
   "source": [
    "# Aplicando o SMOTE\n",
    "x, y = smote.fit_resample(x_treino, y_treino)"
   ]
  },
  {
   "cell_type": "markdown",
   "id": "3cc3c1e4",
   "metadata": {},
   "source": [
    "## 4 - Aplicando Machine Learning"
   ]
  },
  {
   "cell_type": "markdown",
   "id": "3ba62842",
   "metadata": {},
   "source": [
    "### 4.1 - Modelo: Regressão Logística (Versão 1)"
   ]
  },
  {
   "cell_type": "code",
   "execution_count": 44,
   "id": "e718764a",
   "metadata": {},
   "outputs": [
    {
     "data": {
      "text/html": [
       "<style>#sk-container-id-1 {color: black;background-color: white;}#sk-container-id-1 pre{padding: 0;}#sk-container-id-1 div.sk-toggleable {background-color: white;}#sk-container-id-1 label.sk-toggleable__label {cursor: pointer;display: block;width: 100%;margin-bottom: 0;padding: 0.3em;box-sizing: border-box;text-align: center;}#sk-container-id-1 label.sk-toggleable__label-arrow:before {content: \"▸\";float: left;margin-right: 0.25em;color: #696969;}#sk-container-id-1 label.sk-toggleable__label-arrow:hover:before {color: black;}#sk-container-id-1 div.sk-estimator:hover label.sk-toggleable__label-arrow:before {color: black;}#sk-container-id-1 div.sk-toggleable__content {max-height: 0;max-width: 0;overflow: hidden;text-align: left;background-color: #f0f8ff;}#sk-container-id-1 div.sk-toggleable__content pre {margin: 0.2em;color: black;border-radius: 0.25em;background-color: #f0f8ff;}#sk-container-id-1 input.sk-toggleable__control:checked~div.sk-toggleable__content {max-height: 200px;max-width: 100%;overflow: auto;}#sk-container-id-1 input.sk-toggleable__control:checked~label.sk-toggleable__label-arrow:before {content: \"▾\";}#sk-container-id-1 div.sk-estimator input.sk-toggleable__control:checked~label.sk-toggleable__label {background-color: #d4ebff;}#sk-container-id-1 div.sk-label input.sk-toggleable__control:checked~label.sk-toggleable__label {background-color: #d4ebff;}#sk-container-id-1 input.sk-hidden--visually {border: 0;clip: rect(1px 1px 1px 1px);clip: rect(1px, 1px, 1px, 1px);height: 1px;margin: -1px;overflow: hidden;padding: 0;position: absolute;width: 1px;}#sk-container-id-1 div.sk-estimator {font-family: monospace;background-color: #f0f8ff;border: 1px dotted black;border-radius: 0.25em;box-sizing: border-box;margin-bottom: 0.5em;}#sk-container-id-1 div.sk-estimator:hover {background-color: #d4ebff;}#sk-container-id-1 div.sk-parallel-item::after {content: \"\";width: 100%;border-bottom: 1px solid gray;flex-grow: 1;}#sk-container-id-1 div.sk-label:hover label.sk-toggleable__label {background-color: #d4ebff;}#sk-container-id-1 div.sk-serial::before {content: \"\";position: absolute;border-left: 1px solid gray;box-sizing: border-box;top: 0;bottom: 0;left: 50%;z-index: 0;}#sk-container-id-1 div.sk-serial {display: flex;flex-direction: column;align-items: center;background-color: white;padding-right: 0.2em;padding-left: 0.2em;position: relative;}#sk-container-id-1 div.sk-item {position: relative;z-index: 1;}#sk-container-id-1 div.sk-parallel {display: flex;align-items: stretch;justify-content: center;background-color: white;position: relative;}#sk-container-id-1 div.sk-item::before, #sk-container-id-1 div.sk-parallel-item::before {content: \"\";position: absolute;border-left: 1px solid gray;box-sizing: border-box;top: 0;bottom: 0;left: 50%;z-index: -1;}#sk-container-id-1 div.sk-parallel-item {display: flex;flex-direction: column;z-index: 1;position: relative;background-color: white;}#sk-container-id-1 div.sk-parallel-item:first-child::after {align-self: flex-end;width: 50%;}#sk-container-id-1 div.sk-parallel-item:last-child::after {align-self: flex-start;width: 50%;}#sk-container-id-1 div.sk-parallel-item:only-child::after {width: 0;}#sk-container-id-1 div.sk-dashed-wrapped {border: 1px dashed gray;margin: 0 0.4em 0.5em 0.4em;box-sizing: border-box;padding-bottom: 0.4em;background-color: white;}#sk-container-id-1 div.sk-label label {font-family: monospace;font-weight: bold;display: inline-block;line-height: 1.2em;}#sk-container-id-1 div.sk-label-container {text-align: center;}#sk-container-id-1 div.sk-container {/* jupyter's `normalize.less` sets `[hidden] { display: none; }` but bootstrap.min.css set `[hidden] { display: none !important; }` so we also need the `!important` here to be able to override the default hidden behavior on the sphinx rendered scikit-learn.org. See: https://github.com/scikit-learn/scikit-learn/issues/21755 */display: inline-block !important;position: relative;}#sk-container-id-1 div.sk-text-repr-fallback {display: none;}</style><div id=\"sk-container-id-1\" class=\"sk-top-container\"><div class=\"sk-text-repr-fallback\"><pre>GridSearchCV(estimator=LogisticRegression(), n_jobs=-1,\n",
       "             param_grid={&#x27;C&#x27;: [0.0001, 0.001, 0.01, 0.1, 1, 10, 100, 1000,\n",
       "                               10000],\n",
       "                         &#x27;penalty&#x27;: [&#x27;l1&#x27;, &#x27;l2&#x27;]},\n",
       "             scoring=&#x27;accuracy&#x27;)</pre><b>In a Jupyter environment, please rerun this cell to show the HTML representation or trust the notebook. <br />On GitHub, the HTML representation is unable to render, please try loading this page with nbviewer.org.</b></div><div class=\"sk-container\" hidden><div class=\"sk-item sk-dashed-wrapped\"><div class=\"sk-label-container\"><div class=\"sk-label sk-toggleable\"><input class=\"sk-toggleable__control sk-hidden--visually\" id=\"sk-estimator-id-1\" type=\"checkbox\" ><label for=\"sk-estimator-id-1\" class=\"sk-toggleable__label sk-toggleable__label-arrow\">GridSearchCV</label><div class=\"sk-toggleable__content\"><pre>GridSearchCV(estimator=LogisticRegression(), n_jobs=-1,\n",
       "             param_grid={&#x27;C&#x27;: [0.0001, 0.001, 0.01, 0.1, 1, 10, 100, 1000,\n",
       "                               10000],\n",
       "                         &#x27;penalty&#x27;: [&#x27;l1&#x27;, &#x27;l2&#x27;]},\n",
       "             scoring=&#x27;accuracy&#x27;)</pre></div></div></div><div class=\"sk-parallel\"><div class=\"sk-parallel-item\"><div class=\"sk-item\"><div class=\"sk-label-container\"><div class=\"sk-label sk-toggleable\"><input class=\"sk-toggleable__control sk-hidden--visually\" id=\"sk-estimator-id-2\" type=\"checkbox\" ><label for=\"sk-estimator-id-2\" class=\"sk-toggleable__label sk-toggleable__label-arrow\">estimator: LogisticRegression</label><div class=\"sk-toggleable__content\"><pre>LogisticRegression()</pre></div></div></div><div class=\"sk-serial\"><div class=\"sk-item\"><div class=\"sk-estimator sk-toggleable\"><input class=\"sk-toggleable__control sk-hidden--visually\" id=\"sk-estimator-id-3\" type=\"checkbox\" ><label for=\"sk-estimator-id-3\" class=\"sk-toggleable__label sk-toggleable__label-arrow\">LogisticRegression</label><div class=\"sk-toggleable__content\"><pre>LogisticRegression()</pre></div></div></div></div></div></div></div></div></div></div>"
      ],
      "text/plain": [
       "GridSearchCV(estimator=LogisticRegression(), n_jobs=-1,\n",
       "             param_grid={'C': [0.0001, 0.001, 0.01, 0.1, 1, 10, 100, 1000,\n",
       "                               10000],\n",
       "                         'penalty': ['l1', 'l2']},\n",
       "             scoring='accuracy')"
      ]
     },
     "execution_count": 44,
     "metadata": {},
     "output_type": "execute_result"
    }
   ],
   "source": [
    "# Definição da lista de hiperparâmetros\n",
    "tuned_params_reg1 = {'C': [0.0001, 0.001, 0.01, 0.1, 1, 10, 100, 1000, 10000], \n",
    "                   'penalty': ['l1', 'l2']}\n",
    "\n",
    "#Testando os melhores parâmetros para o modelo de Regressão Logística\n",
    "modelo_reg1 = GridSearchCV(LogisticRegression(), \n",
    "                         tuned_params_reg1, \n",
    "                         scoring = 'accuracy', \n",
    "                         n_jobs = -1)\n",
    "                          \n",
    "\n",
    "# Treinamento do modelo\n",
    "modelo_reg1.fit(x, y)"
   ]
  },
  {
   "cell_type": "code",
   "execution_count": 45,
   "id": "910f648d",
   "metadata": {},
   "outputs": [
    {
     "data": {
      "text/plain": [
       "{'C': 0.01, 'penalty': 'l2'}"
      ]
     },
     "execution_count": 45,
     "metadata": {},
     "output_type": "execute_result"
    }
   ],
   "source": [
    "modelo_reg1.best_params_"
   ]
  },
  {
   "cell_type": "markdown",
   "id": "f8744dd2",
   "metadata": {},
   "source": [
    "#### 4.1.2 - Teste com Cross Validation"
   ]
  },
  {
   "cell_type": "code",
   "execution_count": 46,
   "id": "bacd8ce1",
   "metadata": {},
   "outputs": [
    {
     "name": "stdout",
     "output_type": "stream",
     "text": [
      "Resultado preliminar para regressão logística: 0.73\n"
     ]
    }
   ],
   "source": [
    "# Teste de performance com a validação cruzada:\n",
    "\n",
    "regr_log = LogisticRegression(C=0.01, penalty='l2')\n",
    "resultado_regr_log = cross_val_score(regr_log, x, y, cv=5)\n",
    "\n",
    "print(f'Resultado preliminar para regressão logística: {round(resultado_regr_log.mean(), 2)}')"
   ]
  },
  {
   "cell_type": "markdown",
   "id": "22c9f0a6",
   "metadata": {},
   "source": [
    "#### 4.1.3 - Feature Importance\n",
    "\n",
    "Por meio da técnica de permutation importance, será calculada a importância de cada atributo na predição da variável alvo, para a Regressão Logística."
   ]
  },
  {
   "cell_type": "code",
   "execution_count": 47,
   "id": "5da2014e",
   "metadata": {},
   "outputs": [],
   "source": [
    "perm_importance = permutation_importance(modelo_reg1, x, y)"
   ]
  },
  {
   "cell_type": "code",
   "execution_count": 48,
   "id": "71dc6c19",
   "metadata": {},
   "outputs": [],
   "source": [
    "feature_names = x.columns\n",
    "features = np.array(feature_names)"
   ]
  },
  {
   "cell_type": "code",
   "execution_count": 49,
   "id": "1350f428",
   "metadata": {},
   "outputs": [
    {
     "data": {
      "image/png": "[encoded data removed]",
      "text/plain": [
       "<Figure size 640x480 with 1 Axes>"
      ]
     },
     "metadata": {},
     "output_type": "display_data"
    }
   ],
   "source": [
    "sorted_idx = perm_importance.importances_mean.argsort()\n",
    "plt.barh(features[sorted_idx], perm_importance.importances_mean[sorted_idx], color='#F3252E')\n",
    "plt.xlabel(\"Feature Importance\");"
   ]
  },
  {
   "cell_type": "code",
   "execution_count": 50,
   "id": "26ae5f79",
   "metadata": {},
   "outputs": [],
   "source": [
    "# Testes com o feature importance - Regressão Logística\n",
    "# Retirando os 3 atributos com menos importância\n",
    "\n",
    "x_v2rl = x.drop(['Alkphos_cat', 'Gender', 'TP'], axis=1)"
   ]
  },
  {
   "cell_type": "code",
   "execution_count": 51,
   "id": "489768db",
   "metadata": {},
   "outputs": [
    {
     "data": {
      "text/html": [
       "<style>#sk-container-id-2 {color: black;background-color: white;}#sk-container-id-2 pre{padding: 0;}#sk-container-id-2 div.sk-toggleable {background-color: white;}#sk-container-id-2 label.sk-toggleable__label {cursor: pointer;display: block;width: 100%;margin-bottom: 0;padding: 0.3em;box-sizing: border-box;text-align: center;}#sk-container-id-2 label.sk-toggleable__label-arrow:before {content: \"▸\";float: left;margin-right: 0.25em;color: #696969;}#sk-container-id-2 label.sk-toggleable__label-arrow:hover:before {color: black;}#sk-container-id-2 div.sk-estimator:hover label.sk-toggleable__label-arrow:before {color: black;}#sk-container-id-2 div.sk-toggleable__content {max-height: 0;max-width: 0;overflow: hidden;text-align: left;background-color: #f0f8ff;}#sk-container-id-2 div.sk-toggleable__content pre {margin: 0.2em;color: black;border-radius: 0.25em;background-color: #f0f8ff;}#sk-container-id-2 input.sk-toggleable__control:checked~div.sk-toggleable__content {max-height: 200px;max-width: 100%;overflow: auto;}#sk-container-id-2 input.sk-toggleable__control:checked~label.sk-toggleable__label-arrow:before {content: \"▾\";}#sk-container-id-2 div.sk-estimator input.sk-toggleable__control:checked~label.sk-toggleable__label {background-color: #d4ebff;}#sk-container-id-2 div.sk-label input.sk-toggleable__control:checked~label.sk-toggleable__label {background-color: #d4ebff;}#sk-container-id-2 input.sk-hidden--visually {border: 0;clip: rect(1px 1px 1px 1px);clip: rect(1px, 1px, 1px, 1px);height: 1px;margin: -1px;overflow: hidden;padding: 0;position: absolute;width: 1px;}#sk-container-id-2 div.sk-estimator {font-family: monospace;background-color: #f0f8ff;border: 1px dotted black;border-radius: 0.25em;box-sizing: border-box;margin-bottom: 0.5em;}#sk-container-id-2 div.sk-estimator:hover {background-color: #d4ebff;}#sk-container-id-2 div.sk-parallel-item::after {content: \"\";width: 100%;border-bottom: 1px solid gray;flex-grow: 1;}#sk-container-id-2 div.sk-label:hover label.sk-toggleable__label {background-color: #d4ebff;}#sk-container-id-2 div.sk-serial::before {content: \"\";position: absolute;border-left: 1px solid gray;box-sizing: border-box;top: 0;bottom: 0;left: 50%;z-index: 0;}#sk-container-id-2 div.sk-serial {display: flex;flex-direction: column;align-items: center;background-color: white;padding-right: 0.2em;padding-left: 0.2em;position: relative;}#sk-container-id-2 div.sk-item {position: relative;z-index: 1;}#sk-container-id-2 div.sk-parallel {display: flex;align-items: stretch;justify-content: center;background-color: white;position: relative;}#sk-container-id-2 div.sk-item::before, #sk-container-id-2 div.sk-parallel-item::before {content: \"\";position: absolute;border-left: 1px solid gray;box-sizing: border-box;top: 0;bottom: 0;left: 50%;z-index: -1;}#sk-container-id-2 div.sk-parallel-item {display: flex;flex-direction: column;z-index: 1;position: relative;background-color: white;}#sk-container-id-2 div.sk-parallel-item:first-child::after {align-self: flex-end;width: 50%;}#sk-container-id-2 div.sk-parallel-item:last-child::after {align-self: flex-start;width: 50%;}#sk-container-id-2 div.sk-parallel-item:only-child::after {width: 0;}#sk-container-id-2 div.sk-dashed-wrapped {border: 1px dashed gray;margin: 0 0.4em 0.5em 0.4em;box-sizing: border-box;padding-bottom: 0.4em;background-color: white;}#sk-container-id-2 div.sk-label label {font-family: monospace;font-weight: bold;display: inline-block;line-height: 1.2em;}#sk-container-id-2 div.sk-label-container {text-align: center;}#sk-container-id-2 div.sk-container {/* jupyter's `normalize.less` sets `[hidden] { display: none; }` but bootstrap.min.css set `[hidden] { display: none !important; }` so we also need the `!important` here to be able to override the default hidden behavior on the sphinx rendered scikit-learn.org. See: https://github.com/scikit-learn/scikit-learn/issues/21755 */display: inline-block !important;position: relative;}#sk-container-id-2 div.sk-text-repr-fallback {display: none;}</style><div id=\"sk-container-id-2\" class=\"sk-top-container\"><div class=\"sk-text-repr-fallback\"><pre>GridSearchCV(estimator=LogisticRegression(), n_jobs=-1,\n",
       "             param_grid={&#x27;C&#x27;: [0.0001, 0.001, 0.01, 0.1, 1, 10, 100, 1000,\n",
       "                               10000],\n",
       "                         &#x27;penalty&#x27;: [&#x27;l1&#x27;, &#x27;l2&#x27;]},\n",
       "             scoring=&#x27;accuracy&#x27;)</pre><b>In a Jupyter environment, please rerun this cell to show the HTML representation or trust the notebook. <br />On GitHub, the HTML representation is unable to render, please try loading this page with nbviewer.org.</b></div><div class=\"sk-container\" hidden><div class=\"sk-item sk-dashed-wrapped\"><div class=\"sk-label-container\"><div class=\"sk-label sk-toggleable\"><input class=\"sk-toggleable__control sk-hidden--visually\" id=\"sk-estimator-id-4\" type=\"checkbox\" ><label for=\"sk-estimator-id-4\" class=\"sk-toggleable__label sk-toggleable__label-arrow\">GridSearchCV</label><div class=\"sk-toggleable__content\"><pre>GridSearchCV(estimator=LogisticRegression(), n_jobs=-1,\n",
       "             param_grid={&#x27;C&#x27;: [0.0001, 0.001, 0.01, 0.1, 1, 10, 100, 1000,\n",
       "                               10000],\n",
       "                         &#x27;penalty&#x27;: [&#x27;l1&#x27;, &#x27;l2&#x27;]},\n",
       "             scoring=&#x27;accuracy&#x27;)</pre></div></div></div><div class=\"sk-parallel\"><div class=\"sk-parallel-item\"><div class=\"sk-item\"><div class=\"sk-label-container\"><div class=\"sk-label sk-toggleable\"><input class=\"sk-toggleable__control sk-hidden--visually\" id=\"sk-estimator-id-5\" type=\"checkbox\" ><label for=\"sk-estimator-id-5\" class=\"sk-toggleable__label sk-toggleable__label-arrow\">estimator: LogisticRegression</label><div class=\"sk-toggleable__content\"><pre>LogisticRegression()</pre></div></div></div><div class=\"sk-serial\"><div class=\"sk-item\"><div class=\"sk-estimator sk-toggleable\"><input class=\"sk-toggleable__control sk-hidden--visually\" id=\"sk-estimator-id-6\" type=\"checkbox\" ><label for=\"sk-estimator-id-6\" class=\"sk-toggleable__label sk-toggleable__label-arrow\">LogisticRegression</label><div class=\"sk-toggleable__content\"><pre>LogisticRegression()</pre></div></div></div></div></div></div></div></div></div></div>"
      ],
      "text/plain": [
       "GridSearchCV(estimator=LogisticRegression(), n_jobs=-1,\n",
       "             param_grid={'C': [0.0001, 0.001, 0.01, 0.1, 1, 10, 100, 1000,\n",
       "                               10000],\n",
       "                         'penalty': ['l1', 'l2']},\n",
       "             scoring='accuracy')"
      ]
     },
     "execution_count": 51,
     "metadata": {},
     "output_type": "execute_result"
    }
   ],
   "source": [
    "# Definição da lista de hiperparâmetros\n",
    "tuned_params_reg1 = {'C': [0.0001, 0.001, 0.01, 0.1, 1, 10, 100, 1000, 10000], \n",
    "                   'penalty': ['l1', 'l2']}\n",
    "\n",
    "#Testando os melhores parâmetros para o modelo de Regressão Logística\n",
    "modelo_reg2 = GridSearchCV(LogisticRegression(), \n",
    "                         tuned_params_reg1, \n",
    "                         scoring = 'accuracy', \n",
    "                         n_jobs = -1)\n",
    "                          \n",
    "\n",
    "# Treinamento do modelo\n",
    "modelo_reg2.fit(x_v2rl, y)"
   ]
  },
  {
   "cell_type": "code",
   "execution_count": 52,
   "id": "b15cd12f",
   "metadata": {},
   "outputs": [
    {
     "data": {
      "text/plain": [
       "{'C': 0.1, 'penalty': 'l2'}"
      ]
     },
     "execution_count": 52,
     "metadata": {},
     "output_type": "execute_result"
    }
   ],
   "source": [
    "modelo_reg2.best_params_"
   ]
  },
  {
   "cell_type": "code",
   "execution_count": 53,
   "id": "fc6c875d",
   "metadata": {},
   "outputs": [
    {
     "name": "stdout",
     "output_type": "stream",
     "text": [
      "Resultado preliminar para regressão logística (versão 2): 0.73\n"
     ]
    }
   ],
   "source": [
    "regr_log = LogisticRegression(C=0.1, penalty='l2')\n",
    "\n",
    "resultado_regr_log_v2 = cross_val_score(regr_log, x_v2rl, y, cv=5)\n",
    "\n",
    "print(f'Resultado preliminar para regressão logística (versão 2): {round(resultado_regr_log_v2.mean(), 2)}')"
   ]
  },
  {
   "cell_type": "markdown",
   "id": "116d48e4",
   "metadata": {},
   "source": [
    "> Não houve variação significativa de performance."
   ]
  },
  {
   "cell_type": "markdown",
   "id": "b2aa87e5",
   "metadata": {},
   "source": [
    "## 4.2 - Modelo - Random Forest (Versão 1)\n",
    "O mesmo processo será realizado para o algoritmo Random Forest."
   ]
  },
  {
   "cell_type": "code",
   "execution_count": 54,
   "id": "65ecd860",
   "metadata": {},
   "outputs": [
    {
     "data": {
      "text/html": [
       "<style>#sk-container-id-3 {color: black;background-color: white;}#sk-container-id-3 pre{padding: 0;}#sk-container-id-3 div.sk-toggleable {background-color: white;}#sk-container-id-3 label.sk-toggleable__label {cursor: pointer;display: block;width: 100%;margin-bottom: 0;padding: 0.3em;box-sizing: border-box;text-align: center;}#sk-container-id-3 label.sk-toggleable__label-arrow:before {content: \"▸\";float: left;margin-right: 0.25em;color: #696969;}#sk-container-id-3 label.sk-toggleable__label-arrow:hover:before {color: black;}#sk-container-id-3 div.sk-estimator:hover label.sk-toggleable__label-arrow:before {color: black;}#sk-container-id-3 div.sk-toggleable__content {max-height: 0;max-width: 0;overflow: hidden;text-align: left;background-color: #f0f8ff;}#sk-container-id-3 div.sk-toggleable__content pre {margin: 0.2em;color: black;border-radius: 0.25em;background-color: #f0f8ff;}#sk-container-id-3 input.sk-toggleable__control:checked~div.sk-toggleable__content {max-height: 200px;max-width: 100%;overflow: auto;}#sk-container-id-3 input.sk-toggleable__control:checked~label.sk-toggleable__label-arrow:before {content: \"▾\";}#sk-container-id-3 div.sk-estimator input.sk-toggleable__control:checked~label.sk-toggleable__label {background-color: #d4ebff;}#sk-container-id-3 div.sk-label input.sk-toggleable__control:checked~label.sk-toggleable__label {background-color: #d4ebff;}#sk-container-id-3 input.sk-hidden--visually {border: 0;clip: rect(1px 1px 1px 1px);clip: rect(1px, 1px, 1px, 1px);height: 1px;margin: -1px;overflow: hidden;padding: 0;position: absolute;width: 1px;}#sk-container-id-3 div.sk-estimator {font-family: monospace;background-color: #f0f8ff;border: 1px dotted black;border-radius: 0.25em;box-sizing: border-box;margin-bottom: 0.5em;}#sk-container-id-3 div.sk-estimator:hover {background-color: #d4ebff;}#sk-container-id-3 div.sk-parallel-item::after {content: \"\";width: 100%;border-bottom: 1px solid gray;flex-grow: 1;}#sk-container-id-3 div.sk-label:hover label.sk-toggleable__label {background-color: #d4ebff;}#sk-container-id-3 div.sk-serial::before {content: \"\";position: absolute;border-left: 1px solid gray;box-sizing: border-box;top: 0;bottom: 0;left: 50%;z-index: 0;}#sk-container-id-3 div.sk-serial {display: flex;flex-direction: column;align-items: center;background-color: white;padding-right: 0.2em;padding-left: 0.2em;position: relative;}#sk-container-id-3 div.sk-item {position: relative;z-index: 1;}#sk-container-id-3 div.sk-parallel {display: flex;align-items: stretch;justify-content: center;background-color: white;position: relative;}#sk-container-id-3 div.sk-item::before, #sk-container-id-3 div.sk-parallel-item::before {content: \"\";position: absolute;border-left: 1px solid gray;box-sizing: border-box;top: 0;bottom: 0;left: 50%;z-index: -1;}#sk-container-id-3 div.sk-parallel-item {display: flex;flex-direction: column;z-index: 1;position: relative;background-color: white;}#sk-container-id-3 div.sk-parallel-item:first-child::after {align-self: flex-end;width: 50%;}#sk-container-id-3 div.sk-parallel-item:last-child::after {align-self: flex-start;width: 50%;}#sk-container-id-3 div.sk-parallel-item:only-child::after {width: 0;}#sk-container-id-3 div.sk-dashed-wrapped {border: 1px dashed gray;margin: 0 0.4em 0.5em 0.4em;box-sizing: border-box;padding-bottom: 0.4em;background-color: white;}#sk-container-id-3 div.sk-label label {font-family: monospace;font-weight: bold;display: inline-block;line-height: 1.2em;}#sk-container-id-3 div.sk-label-container {text-align: center;}#sk-container-id-3 div.sk-container {/* jupyter's `normalize.less` sets `[hidden] { display: none; }` but bootstrap.min.css set `[hidden] { display: none !important; }` so we also need the `!important` here to be able to override the default hidden behavior on the sphinx rendered scikit-learn.org. See: https://github.com/scikit-learn/scikit-learn/issues/21755 */display: inline-block !important;position: relative;}#sk-container-id-3 div.sk-text-repr-fallback {display: none;}</style><div id=\"sk-container-id-3\" class=\"sk-top-container\"><div class=\"sk-text-repr-fallback\"><pre>RandomizedSearchCV(estimator=RandomForestClassifier(), n_iter=40, n_jobs=-1,\n",
       "                   param_distributions={&#x27;min_samples_leaf&#x27;: [1, 2, 4],\n",
       "                                        &#x27;min_samples_split&#x27;: [2, 5, 10],\n",
       "                                        &#x27;n_estimators&#x27;: [100, 200, 300, 400,\n",
       "                                                         500]},\n",
       "                   scoring=&#x27;accuracy&#x27;)</pre><b>In a Jupyter environment, please rerun this cell to show the HTML representation or trust the notebook. <br />On GitHub, the HTML representation is unable to render, please try loading this page with nbviewer.org.</b></div><div class=\"sk-container\" hidden><div class=\"sk-item sk-dashed-wrapped\"><div class=\"sk-label-container\"><div class=\"sk-label sk-toggleable\"><input class=\"sk-toggleable__control sk-hidden--visually\" id=\"sk-estimator-id-7\" type=\"checkbox\" ><label for=\"sk-estimator-id-7\" class=\"sk-toggleable__label sk-toggleable__label-arrow\">RandomizedSearchCV</label><div class=\"sk-toggleable__content\"><pre>RandomizedSearchCV(estimator=RandomForestClassifier(), n_iter=40, n_jobs=-1,\n",
       "                   param_distributions={&#x27;min_samples_leaf&#x27;: [1, 2, 4],\n",
       "                                        &#x27;min_samples_split&#x27;: [2, 5, 10],\n",
       "                                        &#x27;n_estimators&#x27;: [100, 200, 300, 400,\n",
       "                                                         500]},\n",
       "                   scoring=&#x27;accuracy&#x27;)</pre></div></div></div><div class=\"sk-parallel\"><div class=\"sk-parallel-item\"><div class=\"sk-item\"><div class=\"sk-label-container\"><div class=\"sk-label sk-toggleable\"><input class=\"sk-toggleable__control sk-hidden--visually\" id=\"sk-estimator-id-8\" type=\"checkbox\" ><label for=\"sk-estimator-id-8\" class=\"sk-toggleable__label sk-toggleable__label-arrow\">estimator: RandomForestClassifier</label><div class=\"sk-toggleable__content\"><pre>RandomForestClassifier()</pre></div></div></div><div class=\"sk-serial\"><div class=\"sk-item\"><div class=\"sk-estimator sk-toggleable\"><input class=\"sk-toggleable__control sk-hidden--visually\" id=\"sk-estimator-id-9\" type=\"checkbox\" ><label for=\"sk-estimator-id-9\" class=\"sk-toggleable__label sk-toggleable__label-arrow\">RandomForestClassifier</label><div class=\"sk-toggleable__content\"><pre>RandomForestClassifier()</pre></div></div></div></div></div></div></div></div></div></div>"
      ],
      "text/plain": [
       "RandomizedSearchCV(estimator=RandomForestClassifier(), n_iter=40, n_jobs=-1,\n",
       "                   param_distributions={'min_samples_leaf': [1, 2, 4],\n",
       "                                        'min_samples_split': [2, 5, 10],\n",
       "                                        'n_estimators': [100, 200, 300, 400,\n",
       "                                                         500]},\n",
       "                   scoring='accuracy')"
      ]
     },
     "execution_count": 54,
     "metadata": {},
     "output_type": "execute_result"
    }
   ],
   "source": [
    "# Grid de hiperparâmetros\n",
    "tuned_params_rf1 = {'n_estimators': [100, 200, 300, 400, 500], \n",
    "                   'min_samples_split': [2, 5, 10], \n",
    "                   'min_samples_leaf': [1, 2, 4]}\n",
    "\n",
    "# Cria o modelo com RandomizedSearchCV para buscar a melhor combinação de hiperparâmetros\n",
    "modelo_rf1 = RandomizedSearchCV(RandomForestClassifier(), \n",
    "                               tuned_params_rf1, \n",
    "                               n_iter = 40, \n",
    "                               scoring = 'accuracy', \n",
    "                               n_jobs  = -1)\n",
    "\n",
    "# Treina o modelo\n",
    "modelo_rf1.fit(x, y)"
   ]
  },
  {
   "cell_type": "code",
   "execution_count": 55,
   "id": "04844262",
   "metadata": {},
   "outputs": [
    {
     "data": {
      "text/plain": [
       "{'n_estimators': 300, 'min_samples_split': 2, 'min_samples_leaf': 1}"
      ]
     },
     "execution_count": 55,
     "metadata": {},
     "output_type": "execute_result"
    }
   ],
   "source": [
    "modelo_rf1.best_params_"
   ]
  },
  {
   "cell_type": "markdown",
   "id": "c891dc9b",
   "metadata": {},
   "source": [
    "#### 4.2.1- Teste com Cross Validation"
   ]
  },
  {
   "cell_type": "code",
   "execution_count": 56,
   "id": "dac40d36",
   "metadata": {},
   "outputs": [
    {
     "name": "stdout",
     "output_type": "stream",
     "text": [
      "Resultado preliminar para Random Forest: 0.78\n"
     ]
    }
   ],
   "source": [
    "random_f = RandomForestClassifier(n_estimators=300, min_samples_split=2, min_samples_leaf=1)\n",
    "\n",
    "resultado_random_f = cross_val_score(random_f, x, y, cv=5)\n",
    "\n",
    "print(f'Resultado preliminar para Random Forest: {round(resultado_random_f.mean(), 2)}')"
   ]
  },
  {
   "cell_type": "markdown",
   "id": "d33a65e9",
   "metadata": {},
   "source": [
    "#### 4.2.2 - Feature Importance"
   ]
  },
  {
   "cell_type": "code",
   "execution_count": 57,
   "id": "1d79e0ed",
   "metadata": {},
   "outputs": [
    {
     "data": {
      "image/png": "[encoded data removed]",
      "text/plain": [
       "<Figure size 640x480 with 1 Axes>"
      ]
     },
     "metadata": {},
     "output_type": "display_data"
    }
   ],
   "source": [
    "perm_importance = permutation_importance(modelo_rf1, x, y)\n",
    "\n",
    "feature_names = x.columns\n",
    "features = np.array(feature_names)\n",
    "\n",
    "sorted_idx = perm_importance.importances_mean.argsort()\n",
    "plt.barh(features[sorted_idx], perm_importance.importances_mean[sorted_idx], color='#F3252E')\n",
    "plt.xlabel(\"Feature Importance\");"
   ]
  },
  {
   "cell_type": "code",
   "execution_count": 58,
   "id": "d3a874e9",
   "metadata": {},
   "outputs": [],
   "source": [
    "## Testes com o feature importance - Random Forest\n",
    "x_v2rf = x.drop(['Alkphos_cat', 'Sgpt_cat', 'Gender'], axis=1)"
   ]
  },
  {
   "cell_type": "code",
   "execution_count": 59,
   "id": "93258872",
   "metadata": {},
   "outputs": [
    {
     "data": {
      "text/html": [
       "<style>#sk-container-id-4 {color: black;background-color: white;}#sk-container-id-4 pre{padding: 0;}#sk-container-id-4 div.sk-toggleable {background-color: white;}#sk-container-id-4 label.sk-toggleable__label {cursor: pointer;display: block;width: 100%;margin-bottom: 0;padding: 0.3em;box-sizing: border-box;text-align: center;}#sk-container-id-4 label.sk-toggleable__label-arrow:before {content: \"▸\";float: left;margin-right: 0.25em;color: #696969;}#sk-container-id-4 label.sk-toggleable__label-arrow:hover:before {color: black;}#sk-container-id-4 div.sk-estimator:hover label.sk-toggleable__label-arrow:before {color: black;}#sk-container-id-4 div.sk-toggleable__content {max-height: 0;max-width: 0;overflow: hidden;text-align: left;background-color: #f0f8ff;}#sk-container-id-4 div.sk-toggleable__content pre {margin: 0.2em;color: black;border-radius: 0.25em;background-color: #f0f8ff;}#sk-container-id-4 input.sk-toggleable__control:checked~div.sk-toggleable__content {max-height: 200px;max-width: 100%;overflow: auto;}#sk-container-id-4 input.sk-toggleable__control:checked~label.sk-toggleable__label-arrow:before {content: \"▾\";}#sk-container-id-4 div.sk-estimator input.sk-toggleable__control:checked~label.sk-toggleable__label {background-color: #d4ebff;}#sk-container-id-4 div.sk-label input.sk-toggleable__control:checked~label.sk-toggleable__label {background-color: #d4ebff;}#sk-container-id-4 input.sk-hidden--visually {border: 0;clip: rect(1px 1px 1px 1px);clip: rect(1px, 1px, 1px, 1px);height: 1px;margin: -1px;overflow: hidden;padding: 0;position: absolute;width: 1px;}#sk-container-id-4 div.sk-estimator {font-family: monospace;background-color: #f0f8ff;border: 1px dotted black;border-radius: 0.25em;box-sizing: border-box;margin-bottom: 0.5em;}#sk-container-id-4 div.sk-estimator:hover {background-color: #d4ebff;}#sk-container-id-4 div.sk-parallel-item::after {content: \"\";width: 100%;border-bottom: 1px solid gray;flex-grow: 1;}#sk-container-id-4 div.sk-label:hover label.sk-toggleable__label {background-color: #d4ebff;}#sk-container-id-4 div.sk-serial::before {content: \"\";position: absolute;border-left: 1px solid gray;box-sizing: border-box;top: 0;bottom: 0;left: 50%;z-index: 0;}#sk-container-id-4 div.sk-serial {display: flex;flex-direction: column;align-items: center;background-color: white;padding-right: 0.2em;padding-left: 0.2em;position: relative;}#sk-container-id-4 div.sk-item {position: relative;z-index: 1;}#sk-container-id-4 div.sk-parallel {display: flex;align-items: stretch;justify-content: center;background-color: white;position: relative;}#sk-container-id-4 div.sk-item::before, #sk-container-id-4 div.sk-parallel-item::before {content: \"\";position: absolute;border-left: 1px solid gray;box-sizing: border-box;top: 0;bottom: 0;left: 50%;z-index: -1;}#sk-container-id-4 div.sk-parallel-item {display: flex;flex-direction: column;z-index: 1;position: relative;background-color: white;}#sk-container-id-4 div.sk-parallel-item:first-child::after {align-self: flex-end;width: 50%;}#sk-container-id-4 div.sk-parallel-item:last-child::after {align-self: flex-start;width: 50%;}#sk-container-id-4 div.sk-parallel-item:only-child::after {width: 0;}#sk-container-id-4 div.sk-dashed-wrapped {border: 1px dashed gray;margin: 0 0.4em 0.5em 0.4em;box-sizing: border-box;padding-bottom: 0.4em;background-color: white;}#sk-container-id-4 div.sk-label label {font-family: monospace;font-weight: bold;display: inline-block;line-height: 1.2em;}#sk-container-id-4 div.sk-label-container {text-align: center;}#sk-container-id-4 div.sk-container {/* jupyter's `normalize.less` sets `[hidden] { display: none; }` but bootstrap.min.css set `[hidden] { display: none !important; }` so we also need the `!important` here to be able to override the default hidden behavior on the sphinx rendered scikit-learn.org. See: https://github.com/scikit-learn/scikit-learn/issues/21755 */display: inline-block !important;position: relative;}#sk-container-id-4 div.sk-text-repr-fallback {display: none;}</style><div id=\"sk-container-id-4\" class=\"sk-top-container\"><div class=\"sk-text-repr-fallback\"><pre>RandomizedSearchCV(estimator=RandomForestClassifier(), n_iter=40, n_jobs=-1,\n",
       "                   param_distributions={&#x27;min_samples_leaf&#x27;: [1, 2, 4],\n",
       "                                        &#x27;min_samples_split&#x27;: [2, 5, 10],\n",
       "                                        &#x27;n_estimators&#x27;: [100, 200, 300, 400,\n",
       "                                                         500]},\n",
       "                   scoring=&#x27;accuracy&#x27;)</pre><b>In a Jupyter environment, please rerun this cell to show the HTML representation or trust the notebook. <br />On GitHub, the HTML representation is unable to render, please try loading this page with nbviewer.org.</b></div><div class=\"sk-container\" hidden><div class=\"sk-item sk-dashed-wrapped\"><div class=\"sk-label-container\"><div class=\"sk-label sk-toggleable\"><input class=\"sk-toggleable__control sk-hidden--visually\" id=\"sk-estimator-id-10\" type=\"checkbox\" ><label for=\"sk-estimator-id-10\" class=\"sk-toggleable__label sk-toggleable__label-arrow\">RandomizedSearchCV</label><div class=\"sk-toggleable__content\"><pre>RandomizedSearchCV(estimator=RandomForestClassifier(), n_iter=40, n_jobs=-1,\n",
       "                   param_distributions={&#x27;min_samples_leaf&#x27;: [1, 2, 4],\n",
       "                                        &#x27;min_samples_split&#x27;: [2, 5, 10],\n",
       "                                        &#x27;n_estimators&#x27;: [100, 200, 300, 400,\n",
       "                                                         500]},\n",
       "                   scoring=&#x27;accuracy&#x27;)</pre></div></div></div><div class=\"sk-parallel\"><div class=\"sk-parallel-item\"><div class=\"sk-item\"><div class=\"sk-label-container\"><div class=\"sk-label sk-toggleable\"><input class=\"sk-toggleable__control sk-hidden--visually\" id=\"sk-estimator-id-11\" type=\"checkbox\" ><label for=\"sk-estimator-id-11\" class=\"sk-toggleable__label sk-toggleable__label-arrow\">estimator: RandomForestClassifier</label><div class=\"sk-toggleable__content\"><pre>RandomForestClassifier()</pre></div></div></div><div class=\"sk-serial\"><div class=\"sk-item\"><div class=\"sk-estimator sk-toggleable\"><input class=\"sk-toggleable__control sk-hidden--visually\" id=\"sk-estimator-id-12\" type=\"checkbox\" ><label for=\"sk-estimator-id-12\" class=\"sk-toggleable__label sk-toggleable__label-arrow\">RandomForestClassifier</label><div class=\"sk-toggleable__content\"><pre>RandomForestClassifier()</pre></div></div></div></div></div></div></div></div></div></div>"
      ],
      "text/plain": [
       "RandomizedSearchCV(estimator=RandomForestClassifier(), n_iter=40, n_jobs=-1,\n",
       "                   param_distributions={'min_samples_leaf': [1, 2, 4],\n",
       "                                        'min_samples_split': [2, 5, 10],\n",
       "                                        'n_estimators': [100, 200, 300, 400,\n",
       "                                                         500]},\n",
       "                   scoring='accuracy')"
      ]
     },
     "execution_count": 59,
     "metadata": {},
     "output_type": "execute_result"
    }
   ],
   "source": [
    "# Grid de hiperparâmetros\n",
    "tuned_params_rf1 = {'n_estimators': [100, 200, 300, 400, 500], \n",
    "                   'min_samples_split': [2, 5, 10], \n",
    "                   'min_samples_leaf': [1, 2, 4]}\n",
    "\n",
    "# Cria o modelo com RandomizedSearchCV para buscar a melhor combinação de hiperparâmetros\n",
    "modelo_rf2 = RandomizedSearchCV(RandomForestClassifier(), \n",
    "                               tuned_params_rf1, \n",
    "                               n_iter = 40, \n",
    "                               scoring = 'accuracy', \n",
    "                               n_jobs  = -1)\n",
    "\n",
    "# Treina o modelo\n",
    "modelo_rf2.fit(x_v2rf, y)"
   ]
  },
  {
   "cell_type": "code",
   "execution_count": 60,
   "id": "1ff826ea",
   "metadata": {},
   "outputs": [
    {
     "data": {
      "text/plain": [
       "{'n_estimators': 200, 'min_samples_split': 5, 'min_samples_leaf': 1}"
      ]
     },
     "execution_count": 60,
     "metadata": {},
     "output_type": "execute_result"
    }
   ],
   "source": [
    "modelo_rf2.best_params_"
   ]
  },
  {
   "cell_type": "code",
   "execution_count": 61,
   "id": "5cd33c7f",
   "metadata": {},
   "outputs": [
    {
     "name": "stdout",
     "output_type": "stream",
     "text": [
      "Resultado preliminar para Random Forest (versão 2): 0.78\n"
     ]
    }
   ],
   "source": [
    "random_f = RandomForestClassifier(n_estimators=300, min_samples_split=2, min_samples_leaf=1)\n",
    "\n",
    "resultado_random_f_v2 = cross_val_score(random_f, x_v2rf, y, cv=5)\n",
    "\n",
    "print(f'Resultado preliminar para Random Forest (versão 2): {round(resultado_random_f_v2.mean(), 2)}')"
   ]
  },
  {
   "cell_type": "markdown",
   "id": "a769db96",
   "metadata": {},
   "source": [
    "## 4.3 - Modelo - SVM (Versão 1)\n",
    "usaremos o SVC (Support Vector Classifier)"
   ]
  },
  {
   "cell_type": "code",
   "execution_count": 62,
   "id": "ae9b73df",
   "metadata": {},
   "outputs": [
    {
     "data": {
      "text/html": [
       "<style>#sk-container-id-5 {color: black;background-color: white;}#sk-container-id-5 pre{padding: 0;}#sk-container-id-5 div.sk-toggleable {background-color: white;}#sk-container-id-5 label.sk-toggleable__label {cursor: pointer;display: block;width: 100%;margin-bottom: 0;padding: 0.3em;box-sizing: border-box;text-align: center;}#sk-container-id-5 label.sk-toggleable__label-arrow:before {content: \"▸\";float: left;margin-right: 0.25em;color: #696969;}#sk-container-id-5 label.sk-toggleable__label-arrow:hover:before {color: black;}#sk-container-id-5 div.sk-estimator:hover label.sk-toggleable__label-arrow:before {color: black;}#sk-container-id-5 div.sk-toggleable__content {max-height: 0;max-width: 0;overflow: hidden;text-align: left;background-color: #f0f8ff;}#sk-container-id-5 div.sk-toggleable__content pre {margin: 0.2em;color: black;border-radius: 0.25em;background-color: #f0f8ff;}#sk-container-id-5 input.sk-toggleable__control:checked~div.sk-toggleable__content {max-height: 200px;max-width: 100%;overflow: auto;}#sk-container-id-5 input.sk-toggleable__control:checked~label.sk-toggleable__label-arrow:before {content: \"▾\";}#sk-container-id-5 div.sk-estimator input.sk-toggleable__control:checked~label.sk-toggleable__label {background-color: #d4ebff;}#sk-container-id-5 div.sk-label input.sk-toggleable__control:checked~label.sk-toggleable__label {background-color: #d4ebff;}#sk-container-id-5 input.sk-hidden--visually {border: 0;clip: rect(1px 1px 1px 1px);clip: rect(1px, 1px, 1px, 1px);height: 1px;margin: -1px;overflow: hidden;padding: 0;position: absolute;width: 1px;}#sk-container-id-5 div.sk-estimator {font-family: monospace;background-color: #f0f8ff;border: 1px dotted black;border-radius: 0.25em;box-sizing: border-box;margin-bottom: 0.5em;}#sk-container-id-5 div.sk-estimator:hover {background-color: #d4ebff;}#sk-container-id-5 div.sk-parallel-item::after {content: \"\";width: 100%;border-bottom: 1px solid gray;flex-grow: 1;}#sk-container-id-5 div.sk-label:hover label.sk-toggleable__label {background-color: #d4ebff;}#sk-container-id-5 div.sk-serial::before {content: \"\";position: absolute;border-left: 1px solid gray;box-sizing: border-box;top: 0;bottom: 0;left: 50%;z-index: 0;}#sk-container-id-5 div.sk-serial {display: flex;flex-direction: column;align-items: center;background-color: white;padding-right: 0.2em;padding-left: 0.2em;position: relative;}#sk-container-id-5 div.sk-item {position: relative;z-index: 1;}#sk-container-id-5 div.sk-parallel {display: flex;align-items: stretch;justify-content: center;background-color: white;position: relative;}#sk-container-id-5 div.sk-item::before, #sk-container-id-5 div.sk-parallel-item::before {content: \"\";position: absolute;border-left: 1px solid gray;box-sizing: border-box;top: 0;bottom: 0;left: 50%;z-index: -1;}#sk-container-id-5 div.sk-parallel-item {display: flex;flex-direction: column;z-index: 1;position: relative;background-color: white;}#sk-container-id-5 div.sk-parallel-item:first-child::after {align-self: flex-end;width: 50%;}#sk-container-id-5 div.sk-parallel-item:last-child::after {align-self: flex-start;width: 50%;}#sk-container-id-5 div.sk-parallel-item:only-child::after {width: 0;}#sk-container-id-5 div.sk-dashed-wrapped {border: 1px dashed gray;margin: 0 0.4em 0.5em 0.4em;box-sizing: border-box;padding-bottom: 0.4em;background-color: white;}#sk-container-id-5 div.sk-label label {font-family: monospace;font-weight: bold;display: inline-block;line-height: 1.2em;}#sk-container-id-5 div.sk-label-container {text-align: center;}#sk-container-id-5 div.sk-container {/* jupyter's `normalize.less` sets `[hidden] { display: none; }` but bootstrap.min.css set `[hidden] { display: none !important; }` so we also need the `!important` here to be able to override the default hidden behavior on the sphinx rendered scikit-learn.org. See: https://github.com/scikit-learn/scikit-learn/issues/21755 */display: inline-block !important;position: relative;}#sk-container-id-5 div.sk-text-repr-fallback {display: none;}</style><div id=\"sk-container-id-5\" class=\"sk-top-container\"><div class=\"sk-text-repr-fallback\"><pre>RandomizedSearchCV(estimator=SVC(), n_iter=40, n_jobs=-1,\n",
       "                   param_distributions={&#x27;C&#x27;: [0.001, 0.01, 0.1, 1, 10],\n",
       "                                        &#x27;kernel&#x27;: [&#x27;rbf&#x27;, &#x27;sigmoid&#x27;, &#x27;linear&#x27;,\n",
       "                                                   &#x27;poly&#x27;]},\n",
       "                   scoring=&#x27;accuracy&#x27;)</pre><b>In a Jupyter environment, please rerun this cell to show the HTML representation or trust the notebook. <br />On GitHub, the HTML representation is unable to render, please try loading this page with nbviewer.org.</b></div><div class=\"sk-container\" hidden><div class=\"sk-item sk-dashed-wrapped\"><div class=\"sk-label-container\"><div class=\"sk-label sk-toggleable\"><input class=\"sk-toggleable__control sk-hidden--visually\" id=\"sk-estimator-id-13\" type=\"checkbox\" ><label for=\"sk-estimator-id-13\" class=\"sk-toggleable__label sk-toggleable__label-arrow\">RandomizedSearchCV</label><div class=\"sk-toggleable__content\"><pre>RandomizedSearchCV(estimator=SVC(), n_iter=40, n_jobs=-1,\n",
       "                   param_distributions={&#x27;C&#x27;: [0.001, 0.01, 0.1, 1, 10],\n",
       "                                        &#x27;kernel&#x27;: [&#x27;rbf&#x27;, &#x27;sigmoid&#x27;, &#x27;linear&#x27;,\n",
       "                                                   &#x27;poly&#x27;]},\n",
       "                   scoring=&#x27;accuracy&#x27;)</pre></div></div></div><div class=\"sk-parallel\"><div class=\"sk-parallel-item\"><div class=\"sk-item\"><div class=\"sk-label-container\"><div class=\"sk-label sk-toggleable\"><input class=\"sk-toggleable__control sk-hidden--visually\" id=\"sk-estimator-id-14\" type=\"checkbox\" ><label for=\"sk-estimator-id-14\" class=\"sk-toggleable__label sk-toggleable__label-arrow\">estimator: SVC</label><div class=\"sk-toggleable__content\"><pre>SVC()</pre></div></div></div><div class=\"sk-serial\"><div class=\"sk-item\"><div class=\"sk-estimator sk-toggleable\"><input class=\"sk-toggleable__control sk-hidden--visually\" id=\"sk-estimator-id-15\" type=\"checkbox\" ><label for=\"sk-estimator-id-15\" class=\"sk-toggleable__label sk-toggleable__label-arrow\">SVC</label><div class=\"sk-toggleable__content\"><pre>SVC()</pre></div></div></div></div></div></div></div></div></div></div>"
      ],
      "text/plain": [
       "RandomizedSearchCV(estimator=SVC(), n_iter=40, n_jobs=-1,\n",
       "                   param_distributions={'C': [0.001, 0.01, 0.1, 1, 10],\n",
       "                                        'kernel': ['rbf', 'sigmoid', 'linear',\n",
       "                                                   'poly']},\n",
       "                   scoring='accuracy')"
      ]
     },
     "execution_count": 62,
     "metadata": {},
     "output_type": "execute_result"
    }
   ],
   "source": [
    "# Grid de hiperparâmetros\n",
    "tuned_params_svm1 = {'C': [0.001, 0.01, 0.1, 1, 10], \n",
    "                   'kernel': ['rbf', 'sigmoid', 'linear', 'poly']}\n",
    "\n",
    "# Cria o modelo com RandomizedSearchCV para buscar a melhor combinação de hiperparâmetros\n",
    "modelo_svm1 = RandomizedSearchCV(SVC(), \n",
    "                               tuned_params_svm1, \n",
    "                               n_iter = 40, \n",
    "                               scoring = 'accuracy', \n",
    "                               n_jobs  = -1)\n",
    "\n",
    "# Treina o modelo\n",
    "modelo_svm1.fit(x, y)"
   ]
  },
  {
   "cell_type": "code",
   "execution_count": 63,
   "id": "57cb2a5d",
   "metadata": {},
   "outputs": [
    {
     "data": {
      "text/plain": [
       "{'kernel': 'rbf', 'C': 0.1}"
      ]
     },
     "execution_count": 63,
     "metadata": {},
     "output_type": "execute_result"
    }
   ],
   "source": [
    "modelo_svm1.best_params_"
   ]
  },
  {
   "cell_type": "markdown",
   "id": "c4e657ef",
   "metadata": {},
   "source": [
    "#### 4.3.1 - Teste com Cross Validation"
   ]
  },
  {
   "cell_type": "code",
   "execution_count": 64,
   "id": "9dfe1df9",
   "metadata": {},
   "outputs": [
    {
     "name": "stdout",
     "output_type": "stream",
     "text": [
      "Resultado preliminar para SVM: 0.73\n"
     ]
    }
   ],
   "source": [
    "svm = SVC(kernel='rbf', C=0.1)\n",
    "\n",
    "resultado_svm = cross_val_score(svm, x, y, cv=5)\n",
    "\n",
    "print(f'Resultado preliminar para SVM: {round(resultado_svm.mean(), 2)}')"
   ]
  },
  {
   "cell_type": "markdown",
   "id": "879e36be",
   "metadata": {},
   "source": [
    "#### 4.3.2 - Feature importance"
   ]
  },
  {
   "cell_type": "code",
   "execution_count": 65,
   "id": "4123323f",
   "metadata": {},
   "outputs": [],
   "source": [
    "perm_importance = permutation_importance(modelo_svm1, x, y)"
   ]
  },
  {
   "cell_type": "code",
   "execution_count": 66,
   "id": "cf99b105",
   "metadata": {},
   "outputs": [],
   "source": [
    "feature_names = x.columns\n",
    "features = np.array(feature_names)"
   ]
  },
  {
   "cell_type": "code",
   "execution_count": 67,
   "id": "872abcb3",
   "metadata": {},
   "outputs": [
    {
     "data": {
      "image/png": "[encoded data removed]",
      "text/plain": [
       "<Figure size 640x480 with 1 Axes>"
      ]
     },
     "metadata": {},
     "output_type": "display_data"
    }
   ],
   "source": [
    "sorted_idx = perm_importance.importances_mean.argsort()\n",
    "plt.barh(features[sorted_idx], perm_importance.importances_mean[sorted_idx], color='#F3252E')\n",
    "plt.xlabel(\"Feature Importance\");"
   ]
  },
  {
   "cell_type": "code",
   "execution_count": 68,
   "id": "a7e0ed58",
   "metadata": {},
   "outputs": [],
   "source": [
    "## Testes com o feature importance - SVM\n",
    "x_v2svm = x.drop(['Gender', 'Alkphos_cat', 'TP'], axis=1)"
   ]
  },
  {
   "cell_type": "code",
   "execution_count": 69,
   "id": "7156e553",
   "metadata": {},
   "outputs": [
    {
     "data": {
      "text/html": [
       "<style>#sk-container-id-6 {color: black;background-color: white;}#sk-container-id-6 pre{padding: 0;}#sk-container-id-6 div.sk-toggleable {background-color: white;}#sk-container-id-6 label.sk-toggleable__label {cursor: pointer;display: block;width: 100%;margin-bottom: 0;padding: 0.3em;box-sizing: border-box;text-align: center;}#sk-container-id-6 label.sk-toggleable__label-arrow:before {content: \"▸\";float: left;margin-right: 0.25em;color: #696969;}#sk-container-id-6 label.sk-toggleable__label-arrow:hover:before {color: black;}#sk-container-id-6 div.sk-estimator:hover label.sk-toggleable__label-arrow:before {color: black;}#sk-container-id-6 div.sk-toggleable__content {max-height: 0;max-width: 0;overflow: hidden;text-align: left;background-color: #f0f8ff;}#sk-container-id-6 div.sk-toggleable__content pre {margin: 0.2em;color: black;border-radius: 0.25em;background-color: #f0f8ff;}#sk-container-id-6 input.sk-toggleable__control:checked~div.sk-toggleable__content {max-height: 200px;max-width: 100%;overflow: auto;}#sk-container-id-6 input.sk-toggleable__control:checked~label.sk-toggleable__label-arrow:before {content: \"▾\";}#sk-container-id-6 div.sk-estimator input.sk-toggleable__control:checked~label.sk-toggleable__label {background-color: #d4ebff;}#sk-container-id-6 div.sk-label input.sk-toggleable__control:checked~label.sk-toggleable__label {background-color: #d4ebff;}#sk-container-id-6 input.sk-hidden--visually {border: 0;clip: rect(1px 1px 1px 1px);clip: rect(1px, 1px, 1px, 1px);height: 1px;margin: -1px;overflow: hidden;padding: 0;position: absolute;width: 1px;}#sk-container-id-6 div.sk-estimator {font-family: monospace;background-color: #f0f8ff;border: 1px dotted black;border-radius: 0.25em;box-sizing: border-box;margin-bottom: 0.5em;}#sk-container-id-6 div.sk-estimator:hover {background-color: #d4ebff;}#sk-container-id-6 div.sk-parallel-item::after {content: \"\";width: 100%;border-bottom: 1px solid gray;flex-grow: 1;}#sk-container-id-6 div.sk-label:hover label.sk-toggleable__label {background-color: #d4ebff;}#sk-container-id-6 div.sk-serial::before {content: \"\";position: absolute;border-left: 1px solid gray;box-sizing: border-box;top: 0;bottom: 0;left: 50%;z-index: 0;}#sk-container-id-6 div.sk-serial {display: flex;flex-direction: column;align-items: center;background-color: white;padding-right: 0.2em;padding-left: 0.2em;position: relative;}#sk-container-id-6 div.sk-item {position: relative;z-index: 1;}#sk-container-id-6 div.sk-parallel {display: flex;align-items: stretch;justify-content: center;background-color: white;position: relative;}#sk-container-id-6 div.sk-item::before, #sk-container-id-6 div.sk-parallel-item::before {content: \"\";position: absolute;border-left: 1px solid gray;box-sizing: border-box;top: 0;bottom: 0;left: 50%;z-index: -1;}#sk-container-id-6 div.sk-parallel-item {display: flex;flex-direction: column;z-index: 1;position: relative;background-color: white;}#sk-container-id-6 div.sk-parallel-item:first-child::after {align-self: flex-end;width: 50%;}#sk-container-id-6 div.sk-parallel-item:last-child::after {align-self: flex-start;width: 50%;}#sk-container-id-6 div.sk-parallel-item:only-child::after {width: 0;}#sk-container-id-6 div.sk-dashed-wrapped {border: 1px dashed gray;margin: 0 0.4em 0.5em 0.4em;box-sizing: border-box;padding-bottom: 0.4em;background-color: white;}#sk-container-id-6 div.sk-label label {font-family: monospace;font-weight: bold;display: inline-block;line-height: 1.2em;}#sk-container-id-6 div.sk-label-container {text-align: center;}#sk-container-id-6 div.sk-container {/* jupyter's `normalize.less` sets `[hidden] { display: none; }` but bootstrap.min.css set `[hidden] { display: none !important; }` so we also need the `!important` here to be able to override the default hidden behavior on the sphinx rendered scikit-learn.org. See: https://github.com/scikit-learn/scikit-learn/issues/21755 */display: inline-block !important;position: relative;}#sk-container-id-6 div.sk-text-repr-fallback {display: none;}</style><div id=\"sk-container-id-6\" class=\"sk-top-container\"><div class=\"sk-text-repr-fallback\"><pre>RandomizedSearchCV(estimator=SVC(), n_iter=40, n_jobs=-1,\n",
       "                   param_distributions={&#x27;C&#x27;: [0.001, 0.01, 0.1, 1, 10],\n",
       "                                        &#x27;kernel&#x27;: [&#x27;rbf&#x27;, &#x27;sigmoid&#x27;, &#x27;linear&#x27;,\n",
       "                                                   &#x27;poly&#x27;]},\n",
       "                   scoring=&#x27;accuracy&#x27;)</pre><b>In a Jupyter environment, please rerun this cell to show the HTML representation or trust the notebook. <br />On GitHub, the HTML representation is unable to render, please try loading this page with nbviewer.org.</b></div><div class=\"sk-container\" hidden><div class=\"sk-item sk-dashed-wrapped\"><div class=\"sk-label-container\"><div class=\"sk-label sk-toggleable\"><input class=\"sk-toggleable__control sk-hidden--visually\" id=\"sk-estimator-id-16\" type=\"checkbox\" ><label for=\"sk-estimator-id-16\" class=\"sk-toggleable__label sk-toggleable__label-arrow\">RandomizedSearchCV</label><div class=\"sk-toggleable__content\"><pre>RandomizedSearchCV(estimator=SVC(), n_iter=40, n_jobs=-1,\n",
       "                   param_distributions={&#x27;C&#x27;: [0.001, 0.01, 0.1, 1, 10],\n",
       "                                        &#x27;kernel&#x27;: [&#x27;rbf&#x27;, &#x27;sigmoid&#x27;, &#x27;linear&#x27;,\n",
       "                                                   &#x27;poly&#x27;]},\n",
       "                   scoring=&#x27;accuracy&#x27;)</pre></div></div></div><div class=\"sk-parallel\"><div class=\"sk-parallel-item\"><div class=\"sk-item\"><div class=\"sk-label-container\"><div class=\"sk-label sk-toggleable\"><input class=\"sk-toggleable__control sk-hidden--visually\" id=\"sk-estimator-id-17\" type=\"checkbox\" ><label for=\"sk-estimator-id-17\" class=\"sk-toggleable__label sk-toggleable__label-arrow\">estimator: SVC</label><div class=\"sk-toggleable__content\"><pre>SVC()</pre></div></div></div><div class=\"sk-serial\"><div class=\"sk-item\"><div class=\"sk-estimator sk-toggleable\"><input class=\"sk-toggleable__control sk-hidden--visually\" id=\"sk-estimator-id-18\" type=\"checkbox\" ><label for=\"sk-estimator-id-18\" class=\"sk-toggleable__label sk-toggleable__label-arrow\">SVC</label><div class=\"sk-toggleable__content\"><pre>SVC()</pre></div></div></div></div></div></div></div></div></div></div>"
      ],
      "text/plain": [
       "RandomizedSearchCV(estimator=SVC(), n_iter=40, n_jobs=-1,\n",
       "                   param_distributions={'C': [0.001, 0.01, 0.1, 1, 10],\n",
       "                                        'kernel': ['rbf', 'sigmoid', 'linear',\n",
       "                                                   'poly']},\n",
       "                   scoring='accuracy')"
      ]
     },
     "execution_count": 69,
     "metadata": {},
     "output_type": "execute_result"
    }
   ],
   "source": [
    "# Grid de hiperparâmetros\n",
    "tuned_params_svm1 = {'C': [0.001, 0.01, 0.1, 1, 10], \n",
    "                   'kernel': ['rbf', 'sigmoid', 'linear', 'poly']}\n",
    "\n",
    "# Cria o modelo com RandomizedSearchCV para buscar a melhor combinação de hiperparâmetros\n",
    "modelo_svm2 = RandomizedSearchCV(SVC(), \n",
    "                               tuned_params_svm1, \n",
    "                               n_iter = 40, \n",
    "                               scoring = 'accuracy', \n",
    "                               n_jobs  = -1)\n",
    "\n",
    "# Treina o modelo\n",
    "modelo_svm2.fit(x_v2svm, y)"
   ]
  },
  {
   "cell_type": "code",
   "execution_count": 70,
   "id": "7127c908",
   "metadata": {},
   "outputs": [
    {
     "data": {
      "text/plain": [
       "{'kernel': 'poly', 'C': 10}"
      ]
     },
     "execution_count": 70,
     "metadata": {},
     "output_type": "execute_result"
    }
   ],
   "source": [
    "modelo_svm2.best_params_"
   ]
  },
  {
   "cell_type": "code",
   "execution_count": 71,
   "id": "b636f67e",
   "metadata": {},
   "outputs": [
    {
     "name": "stdout",
     "output_type": "stream",
     "text": [
      "Resultado preliminar para SVM: 0.73\n"
     ]
    }
   ],
   "source": [
    "svm = SVC(kernel='poly', C=10)\n",
    "\n",
    "resultado_svm_v2 = cross_val_score(svm, x_v2svm, y, cv=5)\n",
    "\n",
    "print(f'Resultado preliminar para SVM: {round(resultado_svm_v2.mean(), 2)}')"
   ]
  },
  {
   "cell_type": "markdown",
   "id": "8d61ffb1",
   "metadata": {},
   "source": [
    "> Para o teste de feature importance n SVM, o modelo foi treinado, retirando, um a um, os atributos com menos importância. Não houve variação significativa de performance, assim como a Regressão Logística."
   ]
  },
  {
   "cell_type": "markdown",
   "id": "9b194d56",
   "metadata": {},
   "source": [
    "## 5 - Avaliação dos modelos em teste:\n",
    "\n",
    "Duas métricas serão avaliadas:\n",
    "1. Acurácia\n",
    "2. Matriz de Confusão"
   ]
  },
  {
   "cell_type": "code",
   "execution_count": 72,
   "id": "503212b8",
   "metadata": {},
   "outputs": [],
   "source": [
    "# Retornando os melhores modelos criados de cada algoritmo:\n",
    "\n",
    "regr_log = LogisticRegression(C=0.1, penalty='l2')\n",
    "random_f = RandomForestClassifier(n_estimators=300, min_samples_split=2, min_samples_leaf=1)\n",
    "svm = SVC(kernel='poly', C=10)\n",
    "\n",
    "regr_log.fit(x_v2rl, y)\n",
    "random_f.fit(x_v2rf, y)\n",
    "svm.fit(x_v2svm, y);"
   ]
  },
  {
   "cell_type": "code",
   "execution_count": 73,
   "id": "c85a40b9",
   "metadata": {},
   "outputs": [],
   "source": [
    "x_teste_v2rl = x_teste.drop(['Gender', 'Alkphos_cat', 'TP'], axis=1)\n",
    "x_teste_v2rf = x_teste.drop(['Alkphos_cat', 'Sgpt_cat', 'Gender'], axis=1)\n",
    "x_teste_v2svm = x_teste.drop(['Gender', 'Alkphos_cat', 'TP'], axis=1)"
   ]
  },
  {
   "cell_type": "code",
   "execution_count": 74,
   "id": "7ea5cd0e",
   "metadata": {},
   "outputs": [
    {
     "name": "stdout",
     "output_type": "stream",
     "text": [
      "Acurácia em teste para o modelo 1 - Regressão Logística: 0.64\n",
      "Acurácia em teste para o modelo 2 - Random Forest: 0.68\n",
      "Acurácia em teste para o modelo 3 - SVM: 0.63\n"
     ]
    }
   ],
   "source": [
    "# Previsão dos modelos:\n",
    "\n",
    "y_pred_regr_log = regr_log.predict(x_teste_v2rl)\n",
    "y_pred_random_f = random_f.predict(x_teste_v2rf)\n",
    "y_pred_svm = svm.predict(x_teste_v2svm)\n",
    "\n",
    "# Acurácia em teste dos modelos\n",
    "acuracia_regr_log = accuracy_score(y_teste, y_pred_regr_log)\n",
    "acuracia_random_f = accuracy_score(y_teste, y_pred_random_f)\n",
    "acuracia_svm = accuracy_score(y_teste, y_pred_svm)\n",
    "\n",
    "print(f'Acurácia em teste para o modelo 1 - Regressão Logística: {round(acuracia_regr_log, 2)}')\n",
    "print(f'Acurácia em teste para o modelo 2 - Random Forest: {round(acuracia_random_f, 2)}')\n",
    "print(f'Acurácia em teste para o modelo 3 - SVM: {round(acuracia_svm, 2)}')"
   ]
  },
  {
   "cell_type": "code",
   "execution_count": 75,
   "id": "1e65275d",
   "metadata": {},
   "outputs": [
    {
     "name": "stdout",
     "output_type": "stream",
     "text": [
      "Matriz de Confusão - Regressão Logística\n",
      "\n",
      "[[51 30]\n",
      " [11 22]]\n",
      "----------------x-------------------------\n",
      "\n",
      "Matriz de Confusão - Random Forest\n",
      "\n",
      "[[66 15]\n",
      " [22 11]]\n",
      "----------------x-------------------------\n",
      "\n",
      "Matriz de Confusão - SVM\n",
      "\n",
      "[[48 33]\n",
      " [ 9 24]]\n",
      "----------------x-------------------------\n",
      "\n"
     ]
    }
   ],
   "source": [
    "# Matriz de confusão\n",
    "print('Matriz de Confusão - Regressão Logística\\n')\n",
    "print(confusion_matrix(y_teste, y_pred_regr_log))\n",
    "print('----------------x-------------------------\\n')\n",
    "print('Matriz de Confusão - Random Forest\\n')\n",
    "print(confusion_matrix(y_teste, y_pred_random_f))\n",
    "print('----------------x-------------------------\\n')\n",
    "print('Matriz de Confusão - SVM\\n')\n",
    "print(confusion_matrix(y_teste, y_pred_svm))\n",
    "print('----------------x-------------------------\\n')"
   ]
  },
  {
   "cell_type": "markdown",
   "id": "b12fddff",
   "metadata": {},
   "source": [
    "## 6 - Conclusão:\n",
    "\n",
    "Inicialmente, a performance dos modelos, em treinamento, foram acima de 70% de acurácia, com destaque para o Random Forest, que obteve 80%. Porém, os modelos não tiveram bons resultados para os dados de teste. Provavelmente, o principal motivo para a queda de desempenho é a baixa quantidade de dados em geral e, consequentemente baixa quantidade de dados para teste.\n",
    "\n",
    "Algumas estratégias para otimizar os resultados poderiam ser utilizadas, como por exemplo:\n",
    "\n",
    "1. utilização de outras técnicas de padronização e entender qual o impacto dessa mudança nos modelos. \n",
    "\n",
    "2. Não categorização das variáveis numéricas com outliers ou ainda, uma categorização mais ajustada.  \n",
    "\n",
    "3. Aplicação de outros algoritmos de ML.\n",
    "\n",
    "Entre outras."
   ]
  }
 ],
 "metadata": {
  "kernelspec": {
   "display_name": "Python 3 (ipykernel)",
   "language": "python",
   "name": "python3"
  },
  "language_info": {
   "codemirror_mode": {
    "name": "ipython",
    "version": 3
   },
   "file_extension": ".py",
   "mimetype": "text/x-python",
   "name": "python",
   "nbconvert_exporter": "python",
   "pygments_lexer": "ipython3",
   "version": "3.10.9"
  }
 },
 "nbformat": 4,
 "nbformat_minor": 5
}
