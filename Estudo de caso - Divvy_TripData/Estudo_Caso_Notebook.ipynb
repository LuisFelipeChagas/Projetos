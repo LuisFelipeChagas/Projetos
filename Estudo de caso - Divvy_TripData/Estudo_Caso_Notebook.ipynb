{
 "cells": [
  {
   "cell_type": "markdown",
   "id": "03c079b6",
   "metadata": {},
   "source": [
    "# 1. Resumo\n",
    "\n",
    "   A **Divvy Trips** é uma empresa de compartilhamento de bicicletas na cidade de Chicago. A empresa apresenta dois tipos de planos, o casual (passageiros casuais) e o anual (membros). Os analistas financeiros concluíram que os membros anuais são mais lucrativos do que os passageiros casuais e o departamento de marketing acredita que a chave para o crescimento da empresa seria maximizar o número de membros, convertendo ciclistas casuais em anuais, ao invés de criar campanhas para novos clientes.\n",
    "   \n",
    "   O objetivo desta análise é criar estratégias de marketing destinadas a converter os passageiros casuais em membros. Para isso, é preciso entender melhor como ambos os tipos de clientes utilizam o serviço, por que os passageiros casuais iriam querer adquirir um plano anual e qual estratégia de marketing seria adotada. Serão analisados os históricos de trajetos de bicicleta para identificar as tendências.\n",
    "   \n",
    "   Para isso, inicialmente são feitas as seguintes perguntas:\n",
    "   * Como os membros anuais e os ciclistas casuais utilizam as bicicletas?\n",
    "   * Por que os passageiros casuais iriam querer adquirir planos anuais?\n",
    "   * Qual a estratégia de marketing poderá ser adotada para influenciar os passageiros casuais a se tornarem membros?\n",
    "    \n",
    "   Essas perguntas têm o objetivo de entender os dados, além de responder o problema em questão: vale a pena investir na conversão de passageiros casuais em membros? Se sim, qual a estratégia a ser adotada?\n",
    "   \n",
    " > Além desse relatório, foi desenvolvido um dashboard, utilizando o Power BI, para reforçar os insights encontrados. O dashboard pode ser acessado através desse [link](https://app.powerbi.com/view?r=eyJrIjoiZjYxMzlkMDQtOTgxYS00MDY1LTgwMDctYmE3ZTk4MTg5NzM1IiwidCI6IjAyMWExOTNmLTVjN2UtNGMyZS1hZjllLWU3MTMxN2NlYmViMyJ9)."
   ]
  },
  {
   "cell_type": "markdown",
   "id": "198e8522",
   "metadata": {},
   "source": [
    "# 2. Preparação dos dados\n",
    "\n",
    "São utilizados dados históricos de trajetos para analisar e identificar as tendências. será utilizado um conjunto de dados públicos, disponibilizados pela Motivate International Inc. sob esta [licença](https://ride.divvybikes.com/data-license-agreement) (**Atualmente, esse link está fora do ar, por motivos desconhecidos**). sendo, portanto, dados válidos para o propósito do estudo de caso. Os dados são disponibilizados através deste [link](https://divvy-tripdata.s3.amazonaws.com/index.html).\n",
    "\n",
    "Será feita uma análise anual, iniciando em julho de 2021 até junho de 2022. Os dados estão disponibilizados de forma mensal, portanto devem ser mesclados para o estudo do período indicado.\n",
    "\n",
    "## 2.1. Dicionário de Dados\n",
    "\n",
    "**ride_id:** Identificação de cada passeio\n",
    "\n",
    "**rideable_type:** Tipo de bicicleta utilizada\n",
    "\n",
    "**started_at:** Data e hora do início do passeio\n",
    "\n",
    "**ended_at:** Data e hora do fim do passeio\n",
    "\n",
    "**start_station_name:** local de início do passeio (onde a bicicleta foi alugada)\n",
    "\n",
    "**start_station_id:** Identificação do local de início do passeio\n",
    "\n",
    "**end_station_name:** local do fim do passeio (onde a bicicleta foi entregue)\n",
    "\n",
    "**end_station_id:** Identificação do local do fim do passeio\n",
    "\n",
    "**start_lat:** latitude do local de início do passeio\n",
    "\n",
    "**start_lng:** longitude do local de início do passeio\n",
    "\n",
    "**end_lat:** latitude do local de fim do passeio\n",
    "\n",
    "**end_lng:** longitude do local de fim do passeio\n",
    "\n",
    "**member_casual:** tipo do cliente (membro ou casual)\n"
   ]
  },
  {
   "cell_type": "markdown",
   "id": "8319fde9",
   "metadata": {},
   "source": [
    "# 3. Processamento dos dados\n",
    "\n",
    "## 3.1 - Ajuste Inicial do Conjunto de Dados\n",
    "\n",
    "Algumas manipulações serão realizadas no conjunto de dados, com o intuito de prepará-lo para futuras análises. Como foi mencionado anteriormente, os dados brutos estão separados por mês, portanto o primeiro passo será a mescla desses arquivos (12 no total). Os arquivos de cada mês foram baixados e extraídos para uma pasta específica na máquina."
   ]
  },
  {
   "cell_type": "code",
   "execution_count": 1,
   "id": "56d5a1be",
   "metadata": {},
   "outputs": [],
   "source": [
    "# Importanção das bibliotecas utilizadas no projeto\n",
    "\n",
    "# Pandas: biblioteca de analise de dados e ferramentas de manipulação de conjunto de dados.\n",
    "# Numpy: biblioteca para mainpulação de arrays\n",
    "import pandas as pd\n",
    "import numpy as np\n",
    "\n",
    "# OS: biblioteca utilizada para interação entre Python e Sistema Operacional.\n",
    "import os\n",
    "\n",
    "# Bibliotecas gráficas\n",
    "import matplotlib.pyplot as plt\n",
    "import seaborn as sns\n",
    "\n",
    "# Biblioteca utilizada para suprimir possíveis warnings (avisos) que aparecem ao rodar o código. \n",
    "import warnings\n",
    "warnings.filterwarnings('ignore')"
   ]
  },
  {
   "cell_type": "code",
   "execution_count": null,
   "id": "5a02998e",
   "metadata": {},
   "outputs": [],
   "source": [
    "# Listando os arquivos baixados\n",
    "\n",
    "# caminho da pasta dos arquivos mensais\n",
    "caminho = r'C:\\Users\\luisf\\Desktop\\database\\dados_brutos'\n",
    "diretorio = os.listdir(caminho)\n",
    "\n",
    "diretorio"
   ]
  },
  {
   "cell_type": "code",
   "execution_count": null,
   "id": "8dc993a9",
   "metadata": {},
   "outputs": [],
   "source": [
    "# Analisando a quantidade de colunas de cada arquivo csv.\n",
    "for arquivo in diretorio:\n",
    "    caminho_arquivo = os.path.join(caminho, arquivo)\n",
    "    df = pd.read_csv(caminho_arquivo)\n",
    "    print(df.shape[1])"
   ]
  },
  {
   "cell_type": "markdown",
   "id": "1c0e20dc",
   "metadata": {},
   "source": [
    "> Todos os arquivos possuem 13 colunas. Ao observá-los individualmente (abrindo em um editor de texto, por exemplo), vemos que todas as colunas são iguais, portanto é possível realizar a mescla desses arquivos sem a necessidade de nenhuma modificação."
   ]
  },
  {
   "cell_type": "code",
   "execution_count": null,
   "id": "c8a86695",
   "metadata": {},
   "outputs": [],
   "source": [
    "# coletando o caminho de cada coluna.\n",
    "\n",
    "url_arquivos = []\n",
    "for arquivo in diretorio:\n",
    "    caminho_arquivo = os.path.join(caminho, arquivo)\n",
    "    url_arquivos.append(caminho_arquivo)\n",
    "\n",
    "url_arquivos"
   ]
  },
  {
   "cell_type": "code",
   "execution_count": null,
   "id": "441f00e7",
   "metadata": {},
   "outputs": [],
   "source": [
    "%%time\n",
    "# mescla dos arquivos em um dataframe, utilizando os caminhos de cada arquivo\n",
    "df_anual = pd.concat(map(pd.read_csv, url_arquivos), ignore_index=True)"
   ]
  },
  {
   "cell_type": "code",
   "execution_count": null,
   "id": "8824bfc7",
   "metadata": {},
   "outputs": [],
   "source": [
    "df_anual.shape"
   ]
  },
  {
   "cell_type": "code",
   "execution_count": null,
   "id": "85cb2304",
   "metadata": {},
   "outputs": [],
   "source": [
    "df_anual.head()"
   ]
  },
  {
   "cell_type": "code",
   "execution_count": null,
   "id": "b4177698",
   "metadata": {},
   "outputs": [],
   "source": [
    "df_anual.info()"
   ]
  },
  {
   "cell_type": "code",
   "execution_count": null,
   "id": "bc4238ce",
   "metadata": {},
   "outputs": [],
   "source": [
    "# Excluindo algumas colunas irrelevantes para a análise (colunas de ID)\n",
    "df_anual.drop(['ride_id', 'start_station_id', 'end_station_id'], inplace=True, axis=1)"
   ]
  },
  {
   "cell_type": "code",
   "execution_count": null,
   "id": "5b601ad3",
   "metadata": {},
   "outputs": [],
   "source": [
    "# Excluindo as colunas de latitude e longitude, pois não serão utilizadas\n",
    "df_anual.drop(['start_lat', 'start_lng', 'end_lat', 'end_lng'], inplace=True, axis=1)"
   ]
  },
  {
   "cell_type": "markdown",
   "id": "8c25f15d",
   "metadata": {},
   "source": [
    "> Existe uma pequena variação das latitudes e longitudes de uma mesma estação no conjunto de dados. É algo natural, já que esses dados, provavelmente, são coletados por meio de um aparelho geolocalizador e a simples diferença de localidade entre pontos de retirada e entrega das bicicletas, em uma mesma estação, podem gerar essas pequenas mudanças. Por isso, não utilizaremos essas informações.\n",
    "\n",
    "> Essas variações podem ser vistas, por exemplo, na tabela retornada anteriormente, em que a estação `California Ave & Cortez St`apresenta 2 latitudes diferentes. O mesmo vale para a longitude."
   ]
  },
  {
   "cell_type": "code",
   "execution_count": null,
   "id": "6025b443",
   "metadata": {},
   "outputs": [],
   "source": [
    "# Modificação dos nomes das colunas - Traduzindo os nomes das colunas\n",
    "df_anual.columns = ['Tipo Bicicleta',\n",
    "                    'Início Aluguel',\n",
    "                    'Fim Aluguel',\n",
    "                    'Estação Inicial', \n",
    "                    'Estação Final', \n",
    "                    'Tipo Plano']"
   ]
  },
  {
   "cell_type": "code",
   "execution_count": null,
   "id": "bd2de30c",
   "metadata": {},
   "outputs": [],
   "source": [
    "df_anual.head()"
   ]
  },
  {
   "cell_type": "markdown",
   "id": "3e8d9ea8",
   "metadata": {},
   "source": [
    "## 3.2 Tratamento dos Tipos de dados\n",
    "\n",
    "As colunas `Início Aluguel` e `Fim Aluguel` possuem informações de data, porém esses dados foram interpretados pelo Python como tipo object (string). Será realizada a conversão para o tipo datetime (data e hora)."
   ]
  },
  {
   "cell_type": "code",
   "execution_count": null,
   "id": "d828043d",
   "metadata": {},
   "outputs": [],
   "source": [
    "df_anual.info()"
   ]
  },
  {
   "cell_type": "code",
   "execution_count": null,
   "id": "8e219984",
   "metadata": {},
   "outputs": [],
   "source": [
    "df_anual['Início Aluguel'] = pd.to_datetime(df_anual['Início Aluguel'], errors='coerce')\n",
    "df_anual['Fim Aluguel'] = pd.to_datetime(df_anual['Fim Aluguel'], errors='coerce')"
   ]
  },
  {
   "cell_type": "code",
   "execution_count": null,
   "id": "9f72a6e6",
   "metadata": {},
   "outputs": [],
   "source": [
    "df_anual.info()"
   ]
  },
  {
   "cell_type": "markdown",
   "id": "edf6f75b",
   "metadata": {},
   "source": [
    "## 3.2 Valores nulos\n",
    "\n",
    "As colunas `Estação Inicial` e `Estação Final` apresentam, respectivamente 14.17% e 15.12% de valores nulos, em relação ao total. Uma ideia inicial para o tratamento desses dados seria utilizar as latitudes e longitudes para encontrar a localização desses registros. Portanto, como mencionado anteriormente, essas informações, para uma mesma estação, variam ligeiramente ao longo do conjunto de dados.\n",
    "\n",
    "Analisaremos agora, qual o impacto gerado no conjunto de dados com a possível exclusão desses valores."
   ]
  },
  {
   "cell_type": "code",
   "execution_count": null,
   "id": "2e8a9841",
   "metadata": {},
   "outputs": [],
   "source": [
    "round(((df_anual.isnull().sum()/df_anual.shape[0])*100), 2)"
   ]
  },
  {
   "cell_type": "code",
   "execution_count": null,
   "id": "c58cbbcf",
   "metadata": {},
   "outputs": [],
   "source": [
    "dados_nulos_inicio = df_anual['Estação Inicial'].isnull()\n",
    "dados_nulos_fim = df_anual['Estação Final'].isnull()"
   ]
  },
  {
   "cell_type": "code",
   "execution_count": null,
   "id": "6409fa31",
   "metadata": {},
   "outputs": [],
   "source": [
    "# Filtrando todos os registros com dados nulos - utilizando o comando \"OR\" (|)\n",
    "dados_nulos = df_anual[dados_nulos_inicio | dados_nulos_fim]\n",
    "dados_nulos"
   ]
  },
  {
   "cell_type": "code",
   "execution_count": null,
   "id": "f5162d9e",
   "metadata": {},
   "outputs": [],
   "source": [
    "# Porcentagem de registros com dados nulos\n",
    "round((dados_nulos.shape[0]/df_anual.shape[0])*100, 2)"
   ]
  },
  {
   "cell_type": "code",
   "execution_count": null,
   "id": "d48a75dc",
   "metadata": {},
   "outputs": [],
   "source": [
    "# Porcentagem da coluna Tipo Plano para os registros com dados nulos\n",
    "round((dados_nulos['Tipo Plano'].value_counts()/dados_nulos.shape[0])*100, 2)"
   ]
  },
  {
   "cell_type": "code",
   "execution_count": null,
   "id": "4f13445c",
   "metadata": {},
   "outputs": [],
   "source": [
    "# Porcentagem da coluna Tipo Plano para o conjutn ode dados total\n",
    "round((df_anual['Tipo Plano'].value_counts()/df_anual.shape[0])*100, 2)"
   ]
  },
  {
   "cell_type": "markdown",
   "id": "831d16ef",
   "metadata": {},
   "source": [
    "> Inicialmente, os registros com valores nulos (ou para estação inicial ou para estação final) foram filtrados. Temos, portanto, um total de 1.221.514 registros com dados faltantes, o que equivale à 20.7% do total. É uma alta porcentagem, porém como o conjunto de dados apresenta um grande volume de registros, a exclusão dessas linhas não tornaria a análise mais pobre.\n",
    "\n",
    "> Após isso, calculou-se a porcentagem para cada categoria (membro ou casual) da variável `Tipo Plano`, tanto para o conjunto de dados faltantes, quanto para o conjunto total. Percebe-se a relação membro/casual é similar (55/45 aproximadamente) para os dois conjuntos de dados. Portanto, o impacto negativo causado pela exclusão desses registros com dados faltantes, para a coluna `Tipo Plano` é muito baixo, já que não afetaria na porcentagem das categorias dessa variável.\n",
    "\n",
    "> A análsie foi realizada utilizando a variável `Tipo Plano` pois ela é o coração do problema de negócio. \n",
    "\n",
    "**Decisão:** exclusão dos registros que possuem dados faltantes."
   ]
  },
  {
   "cell_type": "code",
   "execution_count": null,
   "id": "e9741d3c",
   "metadata": {},
   "outputs": [],
   "source": [
    "# Apagando as linhas com valores nulos\n",
    "df_anual.dropna(inplace=True)"
   ]
  },
  {
   "cell_type": "code",
   "execution_count": null,
   "id": "c9fa27fb",
   "metadata": {},
   "outputs": [],
   "source": [
    "df_anual.info()"
   ]
  },
  {
   "cell_type": "code",
   "execution_count": null,
   "id": "19200436",
   "metadata": {},
   "outputs": [],
   "source": [
    "round(((df_anual.isnull().sum()/df_anual.shape[0])*100), 2)"
   ]
  },
  {
   "cell_type": "markdown",
   "id": "0a85a4c4",
   "metadata": {},
   "source": [
    "## 3. 3 Manipulação das Colunas de Data\n",
    "\n",
    "A partir das colunas de data, serão criadas algumas novas colunas, com o objetivo de analisar os dados considerando granularidades diferentes. Da coluna `Início Aluguel` obteremos as informações de mês e dia da semana. Além disso, calcularemos a duração do aluguel, fazendo a difeernça entre as colunas `Fim Aluguel` e `Início Aluguel`. "
   ]
  },
  {
   "cell_type": "code",
   "execution_count": null,
   "id": "b8c76f72",
   "metadata": {},
   "outputs": [],
   "source": [
    "# Criando a coluna Mês\n",
    "# A utilização de loc = 1 coloca a nova coluna no índice 1 do conjunto de dados.\n",
    "df_anual.insert(loc = 1, column = 'Mês', value = df_anual['Início Aluguel'].dt.month)\n",
    "\n",
    "df_anual.head()"
   ]
  },
  {
   "cell_type": "code",
   "execution_count": null,
   "id": "ec688726",
   "metadata": {},
   "outputs": [],
   "source": [
    "# Mudando a localização para pt_BR, para obter o dia da semana em português.\n",
    "\n",
    "import locale\n",
    "locale.setlocale(locale.LC_TIME, 'pt_BR')"
   ]
  },
  {
   "cell_type": "code",
   "execution_count": null,
   "id": "cb0f96e9",
   "metadata": {},
   "outputs": [],
   "source": [
    "# Criando a coluna Dia da Semana\n",
    "df_anual.insert(loc = 2, column = 'Dia da Semana',\n",
    "                value = df_anual['Início Aluguel'].apply(lambda x : x.strftime('%A')))"
   ]
  },
  {
   "cell_type": "code",
   "execution_count": null,
   "id": "6f8985c6",
   "metadata": {},
   "outputs": [],
   "source": [
    "# Criando a coluna Duração\n",
    "df_anual.insert(loc = 5, column = 'Duração',\n",
    "                value = df_anual['Fim Aluguel'] - df_anual['Início Aluguel'])"
   ]
  },
  {
   "cell_type": "code",
   "execution_count": null,
   "id": "c74bed00",
   "metadata": {},
   "outputs": [],
   "source": [
    "df_anual.head()"
   ]
  },
  {
   "cell_type": "code",
   "execution_count": null,
   "id": "d38cf519",
   "metadata": {},
   "outputs": [],
   "source": [
    "df_anual.info()"
   ]
  },
  {
   "cell_type": "code",
   "execution_count": null,
   "id": "3a10e517",
   "metadata": {},
   "outputs": [],
   "source": [
    "# Salvando os dados manipulados\n",
    "df_anual.to_csv('divvy_tripdata_ckpoint1.csv', index_label = False)"
   ]
  },
  {
   "cell_type": "markdown",
   "id": "2df802bf",
   "metadata": {},
   "source": [
    "# 4. Análise Exploratória de Dados"
   ]
  },
  {
   "cell_type": "code",
   "execution_count": 2,
   "id": "bded0bd7",
   "metadata": {},
   "outputs": [],
   "source": [
    "# Criando checkpoint 1.\n",
    "df = pd.read_csv('divvy_tripdata_ckpoint1.csv')"
   ]
  },
  {
   "cell_type": "code",
   "execution_count": null,
   "id": "8be361fb",
   "metadata": {},
   "outputs": [],
   "source": [
    "df.info()"
   ]
  },
  {
   "cell_type": "markdown",
   "id": "c6eba40f",
   "metadata": {},
   "source": [
    "## 4.1 Por Tipo de Bicicleta:"
   ]
  },
  {
   "cell_type": "code",
   "execution_count": null,
   "id": "92c54d55",
   "metadata": {},
   "outputs": [],
   "source": [
    "round((df['Tipo Bicicleta'].value_counts()/df.shape[0])*100, 2)"
   ]
  },
  {
   "cell_type": "markdown",
   "id": "b25f10dc",
   "metadata": {},
   "source": [
    "> A grande maioria dos aluguéis são de biciletas clássicas (comuns), com 68%. Temos também bicicletas elétricas (26.6%) e por fim, as biciletas docked (mais de um lugar), representando 5% dos alugéis. "
   ]
  },
  {
   "cell_type": "code",
   "execution_count": null,
   "id": "412aad54",
   "metadata": {},
   "outputs": [],
   "source": [
    "df_anual.groupby(['Tipo Plano', 'Tipo Bicicleta'])[['Início Aluguel']].count().sort_values('Tipo Plano', ascending=False)"
   ]
  },
  {
   "cell_type": "markdown",
   "id": "1b9f74e5",
   "metadata": {},
   "source": [
    "> Apenas os clientes casuais alugam bicicletas docked. Tanto os membros quanto os casuais alugam mais bicicletas clássicas."
   ]
  },
  {
   "cell_type": "markdown",
   "id": "12fc6864",
   "metadata": {},
   "source": [
    "## 4.2 Por Mês e Dia da Semana"
   ]
  },
  {
   "cell_type": "code",
   "execution_count": null,
   "id": "b0de78d0",
   "metadata": {},
   "outputs": [],
   "source": [
    "print('Porcentagem dos alugueis por mês')\n",
    "print(round((df['Mês'].value_counts()/df.shape[0])*100, 2))\n",
    "print('\\n' + 50 * '-'+ '\\n')\n",
    "print('Porcentagem dos alugueis por dia da semana')\n",
    "print(round((df['Dia da Semana'].value_counts()/df.shape[0])*100, 2))"
   ]
  },
  {
   "cell_type": "markdown",
   "id": "b11470e2",
   "metadata": {},
   "source": [
    "> Existe uma crescente de alugueis do mês 5 (maio) ao mês 10 (outubro), sendo os meses de julho e agosto com mais registros.\n",
    "\n",
    "> A proporção de registros por dia da semana é bem equilibrada, com um ligeiro aumento no sábado."
   ]
  },
  {
   "cell_type": "code",
   "execution_count": null,
   "id": "0c0bdc9d",
   "metadata": {},
   "outputs": [],
   "source": [
    "plt.figure(figsize = (10, 8))\n",
    "chart = sns.countplot(data = df,\n",
    "                     x = 'Mês',\n",
    "                     color = '#279259',\n",
    "                     alpha = 0.9)\n",
    "\n",
    "# Labels\n",
    "sns.set(font_scale = 1.5)\n",
    "sns.set_style('whitegrid')\n",
    "chart.set_xlabel('\\nMês', fontsize = 14)\n",
    "chart.set_ylabel(' ')\n",
    "\n",
    "plt.title('Quantidade de Aluguéis por Mês', size = 20);"
   ]
  },
  {
   "cell_type": "code",
   "execution_count": null,
   "id": "d5de9154",
   "metadata": {},
   "outputs": [],
   "source": [
    "ordem = ['segunda-feira', 'terça-feira', 'quarta-feira', 'quinta-feira', 'sexta-feira', 'sábado', 'domingo']\n",
    "\n",
    "plt.figure(figsize = (10, 8))\n",
    "chart = sns.countplot(data = df,\n",
    "                     x = 'Dia da Semana',\n",
    "                     color = '#0058A9',\n",
    "                     alpha = 0.9,\n",
    "                     order = ordem)\n",
    "\n",
    "# Labels\n",
    "sns.set(font_scale = 1.5)\n",
    "sns.set_style('whitegrid')\n",
    "chart.set_xlabel('\\nDia da Semana', fontsize = 14)\n",
    "chart.set_ylabel(' ')\n",
    "\n",
    "plt.title('Quantidade de Aluguéis por Dia da Semana', size = 20)\n",
    "plt.xticks(rotation = 45);"
   ]
  },
  {
   "cell_type": "markdown",
   "id": "5a8c34be",
   "metadata": {},
   "source": [
    "## 4.3 Por Duração do Aluguel\n",
    "\n",
    "A coluna `Duração`, ao ser criada, possuía o tipo timedelta (diferença de tempo). Porém, ao recarregar o conjunto de dados, essa coluna foi interpretada pelo Python como object. "
   ]
  },
  {
   "cell_type": "code",
   "execution_count": 4,
   "id": "53d12fd1",
   "metadata": {},
   "outputs": [],
   "source": [
    "df['Duração'] = pd.to_timedelta(arg = df['Duração'])"
   ]
  },
  {
   "cell_type": "code",
   "execution_count": 5,
   "id": "0b9f9f01",
   "metadata": {},
   "outputs": [],
   "source": [
    "# Convertendo a duração do aluguel para minutos, para padronizar os dados\n",
    "df['Duração_Minutos'] = (df['Duração'].dt.total_seconds()/60).round(2)"
   ]
  },
  {
   "cell_type": "code",
   "execution_count": 6,
   "id": "3c1fbb63",
   "metadata": {},
   "outputs": [
    {
     "data": {
      "text/plain": [
       "count    4.678871e+06\n",
       "mean     1.926107e+01\n",
       "std      1.186626e+02\n",
       "min     -1.290800e+02\n",
       "25%      6.520000e+00\n",
       "50%      1.142000e+01\n",
       "75%      2.057000e+01\n",
       "max      4.910715e+04\n",
       "Name: Duração_Minutos, dtype: float64"
      ]
     },
     "execution_count": 6,
     "metadata": {},
     "output_type": "execute_result"
    }
   ],
   "source": [
    "df['Duração_Minutos'].describe()"
   ]
  },
  {
   "cell_type": "markdown",
   "id": "9f52efc4",
   "metadata": {},
   "source": [
    "> Da tabela acima, temos várias informações estatísticas sobre a coluna `Duração_Minutos`, como, por exemplo, a média, os quartis, máximo e mínimo. Algumas observações:\n",
    "\n",
    "* Valor mínimo negativo: não faz sentido termos aluguéis com duração negativa, sendo considerado, portanto, um erro de coleta de dados.\n",
    "\n",
    "* O valor máximo da duração, é cerca de 49 mil minutos, o que representa mais de 34 dias de duração. Claramente temos alguns outliers, que serão analisados."
   ]
  },
  {
   "cell_type": "code",
   "execution_count": null,
   "id": "5d96ca5b",
   "metadata": {},
   "outputs": [],
   "source": [
    "# Quantidade de registros negativos\n",
    "df[df['Duração_Minutos'] < 0].shape[0]"
   ]
  },
  {
   "cell_type": "code",
   "execution_count": 7,
   "id": "00b652f0",
   "metadata": {},
   "outputs": [],
   "source": [
    "# Excluindo os registros com duração dos aluguéis negativa\n",
    "df = df[~(df['Duração_Minutos'] < 0)]"
   ]
  },
  {
   "cell_type": "code",
   "execution_count": null,
   "id": "1751f151",
   "metadata": {},
   "outputs": [],
   "source": [
    "df['Duração_Minutos'].describe()"
   ]
  },
  {
   "cell_type": "markdown",
   "id": "44aa2758",
   "metadata": {},
   "source": [
    "> Agora temos como valores mínimos 0, o que representaria uma duração de 0 minutos."
   ]
  },
  {
   "cell_type": "code",
   "execution_count": null,
   "id": "709e1a46",
   "metadata": {},
   "outputs": [],
   "source": [
    "plt.figure(figsize = (15, 6))\n",
    "\n",
    "plt.subplot(1, 2, 1)\n",
    "sns.boxplot(df['Duração_Minutos'], color = '#FF4040')\n",
    "plt.title('Boxplot Duração dos Aluguéis', size = 18);\n",
    "\n",
    "plt.subplot(1, 2, 2)\n",
    "df['Duração_Minutos'].hist(color = 'green', alpha = 0.7, edgecolor='black')\n",
    "plt.title('Histograma Duração dos Aluguéis', size = 18);\n",
    "\n",
    "plt.tight_layout()"
   ]
  },
  {
   "cell_type": "markdown",
   "id": "042c42bf",
   "metadata": {},
   "source": [
    "> Temos diversos outliers, representado por durações de aluguéis muito diferentes da média de 19 minutos (informação retirada do describe acima). A partir dessa análise inicial, algumas inferências serão feitas:\n",
    "\n",
    "1. Durações de aluguéis abaixo de 5 minutos serão consideradas desistências ou erros de coletas de dados;\n",
    "2. Aluguéis com mais de 6 horas (360 minutos) também não serão considerados.\n",
    "\n",
    "**obs:** em um caso real, essas decisões deveriam ser tomadas em conjunto com a área de negócios, já que haveria mais informação sobre os dados. "
   ]
  },
  {
   "cell_type": "code",
   "execution_count": 8,
   "id": "cb50eb58",
   "metadata": {},
   "outputs": [],
   "source": [
    "df = df[(df['Duração_Minutos'] < 6 * 60) & (df['Duração_Minutos'] > 5)]"
   ]
  },
  {
   "cell_type": "code",
   "execution_count": null,
   "id": "35b13956",
   "metadata": {},
   "outputs": [],
   "source": [
    "df['Duração_Minutos'].describe()"
   ]
  },
  {
   "cell_type": "code",
   "execution_count": null,
   "id": "76966781",
   "metadata": {},
   "outputs": [],
   "source": [
    "plt.figure(figsize = (15, 6))\n",
    "\n",
    "plt.subplot(1, 2, 1)\n",
    "sns.boxplot(df['Duração_Minutos'], color = '#FF4040')\n",
    "plt.title('Boxplot Duração dos Aluguéis', size = 18);\n",
    "\n",
    "plt.subplot(1, 2, 2)\n",
    "df['Duração_Minutos'].hist(color = 'green', alpha = 0.7, edgecolor='black')\n",
    "plt.title('Histograma Duração dos Aluguéis', size = 18);\n",
    "\n",
    "plt.tight_layout()"
   ]
  },
  {
   "cell_type": "markdown",
   "id": "64f63ba8",
   "metadata": {},
   "source": [
    "> Como podemos perceber, ainda existem outliers, porém são valores que acredito que realmente podem existir."
   ]
  },
  {
   "cell_type": "markdown",
   "id": "cf592f41",
   "metadata": {},
   "source": [
    "## 4.4 Por Estação (Início e Final)"
   ]
  },
  {
   "cell_type": "code",
   "execution_count": null,
   "id": "8eda6ae9",
   "metadata": {},
   "outputs": [],
   "source": [
    "print('Estações Iniciais\\n')\n",
    "print(df['Estação Inicial'].value_counts())\n",
    "print('\\n' + 50 * '-'+ '\\n')\n",
    "print('Estações Finais\\n')\n",
    "print(df['Estação Final'].value_counts())"
   ]
  },
  {
   "cell_type": "markdown",
   "id": "dcaa8d16",
   "metadata": {},
   "source": [
    "> As 5 primeiras estações são as mesmas para início e fim do aluguel. São elas, portanto, que apresetam maiores movimentações de clientes."
   ]
  },
  {
   "cell_type": "code",
   "execution_count": 10,
   "id": "2d354740",
   "metadata": {},
   "outputs": [],
   "source": [
    "inicial = df[\"Estação Inicial\"].value_counts()\n",
    "final = df[\"Estação Final\"].value_counts()"
   ]
  },
  {
   "cell_type": "code",
   "execution_count": 11,
   "id": "f0662219",
   "metadata": {},
   "outputs": [],
   "source": [
    "dicionario = {'Qtd Início': inicial, 'Qtd Fim': final}\n",
    "\n",
    "df_qtd_estacao = pd.concat(dicionario, axis = 1)"
   ]
  },
  {
   "cell_type": "code",
   "execution_count": 13,
   "id": "1a554390",
   "metadata": {},
   "outputs": [],
   "source": [
    "df_qtd_estacao['Total'] = df_qtd_estacao['Qtd Início'] + df_qtd_estacao['Qtd Fim']"
   ]
  },
  {
   "cell_type": "code",
   "execution_count": 14,
   "id": "93144b03",
   "metadata": {},
   "outputs": [
    {
     "data": {
      "text/html": [
       "<div>\n",
       "<style scoped>\n",
       "    .dataframe tbody tr th:only-of-type {\n",
       "        vertical-align: middle;\n",
       "    }\n",
       "\n",
       "    .dataframe tbody tr th {\n",
       "        vertical-align: top;\n",
       "    }\n",
       "\n",
       "    .dataframe thead th {\n",
       "        text-align: right;\n",
       "    }\n",
       "</style>\n",
       "<table border=\"1\" class=\"dataframe\">\n",
       "  <thead>\n",
       "    <tr style=\"text-align: right;\">\n",
       "      <th></th>\n",
       "      <th>Qtd Início</th>\n",
       "      <th>Qtd Fim</th>\n",
       "      <th>Total</th>\n",
       "    </tr>\n",
       "  </thead>\n",
       "  <tbody>\n",
       "    <tr>\n",
       "      <th>Streeter Dr &amp; Grand Ave</th>\n",
       "      <td>75629.0</td>\n",
       "      <td>77276.0</td>\n",
       "      <td>152905.0</td>\n",
       "    </tr>\n",
       "    <tr>\n",
       "      <th>Michigan Ave &amp; Oak St</th>\n",
       "      <td>39921.0</td>\n",
       "      <td>40510.0</td>\n",
       "      <td>80431.0</td>\n",
       "    </tr>\n",
       "    <tr>\n",
       "      <th>DuSable Lake Shore Dr &amp; North Blvd</th>\n",
       "      <td>36915.0</td>\n",
       "      <td>41167.0</td>\n",
       "      <td>78082.0</td>\n",
       "    </tr>\n",
       "    <tr>\n",
       "      <th>Millennium Park</th>\n",
       "      <td>35685.0</td>\n",
       "      <td>36781.0</td>\n",
       "      <td>72466.0</td>\n",
       "    </tr>\n",
       "    <tr>\n",
       "      <th>Wells St &amp; Concord Ln</th>\n",
       "      <td>35556.0</td>\n",
       "      <td>35304.0</td>\n",
       "      <td>70860.0</td>\n",
       "    </tr>\n",
       "  </tbody>\n",
       "</table>\n",
       "</div>"
      ],
      "text/plain": [
       "                                    Qtd Início  Qtd Fim     Total\n",
       "Streeter Dr & Grand Ave                75629.0  77276.0  152905.0\n",
       "Michigan Ave & Oak St                  39921.0  40510.0   80431.0\n",
       "DuSable Lake Shore Dr & North Blvd     36915.0  41167.0   78082.0\n",
       "Millennium Park                        35685.0  36781.0   72466.0\n",
       "Wells St & Concord Ln                  35556.0  35304.0   70860.0"
      ]
     },
     "execution_count": 14,
     "metadata": {},
     "output_type": "execute_result"
    }
   ],
   "source": [
    "df_qtd_estacao.head()"
   ]
  },
  {
   "cell_type": "markdown",
   "id": "d00eb2ca",
   "metadata": {},
   "source": [
    "> Acima temos as 5 estações com maiores movimentações de clientes."
   ]
  },
  {
   "cell_type": "markdown",
   "id": "22e0a7dc",
   "metadata": {},
   "source": [
    "## 4.5 Por Tipo de Plano"
   ]
  },
  {
   "cell_type": "code",
   "execution_count": null,
   "id": "295bf8c6",
   "metadata": {},
   "outputs": [],
   "source": [
    "round((df['Tipo Plano'].value_counts()/df.shape[0])*100, 2)"
   ]
  },
  {
   "cell_type": "markdown",
   "id": "a9021d11",
   "metadata": {},
   "source": [
    "> Temos uma relação **53/47**, aproximadamente, para os clientes que são membros e os que são casuais.\n",
    "\n",
    "## 4.6 Nova Variável\n",
    "\n",
    "Uma suposição feita, após toda a análise exploratória é que clientes, tanto membros, quanto casuais, utilizam as biciletas para o deslocamento ao trabalho. Portanto, criaremos uma nova variável que tente representar se aquele registro é ou não para esse fim.\n",
    "\n",
    "Visualizando o boxplot e o histograma, para a variável `Duração_Minutos` podemos perceber que a grande maioria dos aluguéis são de até 50 minutos. Acredito que isso pode ser considerado uma duração aceitável para o deslocamento ao trabalho.\n",
    "\n",
    "Além disso, consideraremos que a maioria das pessoas não trabalham nos finais de semana. Portanto, a nova variável irá considerar essas duas possibilidades. Aluguéis de até 50 minutos de duração e que não sejam no fim de semana (observe a utilização do \"e\", indicando uma concatenação dessas duas situações).\n",
    "\n",
    "> **obs:** vale destacar que essa nova variável indica uma suposição nos dados e não uma certeza. Ela poderá não englobar todos os registros de pessoas que vão ao trabalho (como, por exemplo, pessoas que usam a bicicleta aos fins de semana para o trabalho), além de englobar possíveis registros de pessoas que alugaram a bicicleta sem a intenção de trabalhar, mas que se encaixam nas condições."
   ]
  },
  {
   "cell_type": "code",
   "execution_count": null,
   "id": "24d6172a",
   "metadata": {},
   "outputs": [],
   "source": [
    "# Criando a nova variável Trabalho\n",
    "\n",
    "# Inicialmente, criaremos uma nova coluna com valores nulos. Caso as condições impostas no próximo passo possua algum erro,\n",
    "# ou ainda, não consiga englobar todos os dados, existirão valores nulos nessa nova coluna.\n",
    "df['Trabalho'] = np.nan\n",
    "\n",
    "# Criando a nova coluna passando as condições impostas\n",
    "df['Trabalho'] = np.where(\n",
    "    (df['Duração_Minutos'] < 50) & (df['Dia da Semana'] != 'sábado') & (df['Dia da Semana'] != 'domingo'), \"Sim\", \"Não\")  "
   ]
  },
  {
   "cell_type": "code",
   "execution_count": null,
   "id": "0a242f46",
   "metadata": {},
   "outputs": [],
   "source": [
    "df['Trabalho'].isnull().sum()"
   ]
  },
  {
   "cell_type": "code",
   "execution_count": null,
   "id": "7e34cb72",
   "metadata": {},
   "outputs": [],
   "source": [
    "df.sample(10)"
   ]
  },
  {
   "cell_type": "code",
   "execution_count": null,
   "id": "384f3502",
   "metadata": {},
   "outputs": [],
   "source": [
    "round((df['Trabalho'].value_counts()/df.shape[0])*100, 2)"
   ]
  },
  {
   "cell_type": "markdown",
   "id": "b4143b63",
   "metadata": {},
   "source": [
    "> A maior parte dos dados se encaixam nas condições especificadas (63% aproximadamente)."
   ]
  },
  {
   "cell_type": "code",
   "execution_count": null,
   "id": "9025d320",
   "metadata": {},
   "outputs": [],
   "source": [
    "# Salvando novamente os dados manipulados\n",
    "# Esse conjunto de dados será utilizado para o dashboard no Power BI.\n",
    "\n",
    "df.to_csv('divvy_tripdata_final_ckpoint2.csv', index_label = False)"
   ]
  },
  {
   "cell_type": "markdown",
   "id": "ee823dc0",
   "metadata": {},
   "source": [
    "# 5. Perguntas de Negócio\n",
    "\n",
    "## 5.1 Como os clientes membros e casuais utilizam as bicicletas?\n",
    "\n",
    "Inicialmente, iremos separar o dataset entre clientes membros e casuais. Após isso, realizaremos uma análise semelhante à feita anteriormente, para cada subset. "
   ]
  },
  {
   "cell_type": "code",
   "execution_count": null,
   "id": "f440f7f9",
   "metadata": {},
   "outputs": [],
   "source": [
    "# Criando checkpoint 2.\n",
    "df = pd.read_csv('divvy_tripdata_final_ckpoint2.csv')"
   ]
  },
  {
   "cell_type": "code",
   "execution_count": null,
   "id": "5c1cc3c0",
   "metadata": {},
   "outputs": [],
   "source": [
    "# Membros\n",
    "df_membro = df[df['Tipo Plano'] == 'member']\n",
    "df_membro.reset_index(inplace = True, drop = True)\n",
    "\n",
    "# Casual\n",
    "df_casual = df[df['Tipo Plano'] == 'casual']\n",
    "df_casual.reset_index(inplace = True, drop = True)"
   ]
  },
  {
   "cell_type": "code",
   "execution_count": null,
   "id": "bff3c0ff",
   "metadata": {},
   "outputs": [],
   "source": [
    "print('Estatísticas do tempo de aluguél das bicicletas (minutos) - Membros\\n')\n",
    "print(round(df_membro['Duração_Minutos'].describe(), 2))\n",
    "print(50 * '-')\n",
    "print('Estatísticas do tempo de aluguél das bicicletas (minutos) - Casuais\\n')\n",
    "print(round(df_casual['Duração_Minutos'].describe(), 2))"
   ]
  },
  {
   "cell_type": "code",
   "execution_count": null,
   "id": "a1a64fee",
   "metadata": {},
   "outputs": [],
   "source": [
    "plt.figure(figsize = (15, 6))\n",
    "\n",
    "plt.subplot(1, 2, 1)\n",
    "sns.boxplot(df_membro['Duração_Minutos'], color = '#ff9f84'); \n",
    "plt.title( \"Duração - Clientes Membros\" , size = 24 )\n",
    "\n",
    "plt.subplot(1, 2, 2)\n",
    "sns.boxplot(df_casual['Duração_Minutos'], color = '#89ffa0'); \n",
    "plt.title( \"Duração - Clientes Casuais\" , size = 24 )\n",
    "\n",
    "\n",
    "plt.tight_layout()"
   ]
  },
  {
   "cell_type": "code",
   "execution_count": null,
   "id": "993e5de0",
   "metadata": {},
   "outputs": [],
   "source": [
    "plt.figure(figsize = (15, 6))\n",
    "\n",
    "plt.subplot(1, 2, 1)\n",
    "df_membro['Duração_Minutos'].hist(color = '#ff9f84', alpha = 0.7, edgecolor='black');\n",
    "plt.title( \"Duração - Clientes Membros\" , size = 24 )\n",
    "\n",
    "plt.subplot(1, 2, 2)\n",
    "df_casual['Duração_Minutos'].hist(color = '#89ffa0', alpha = 0.7, edgecolor='black');\n",
    "plt.title( \"Duração - Clientes Casuais\" , size = 24 )\n",
    "\n",
    "\n",
    "plt.tight_layout()"
   ]
  },
  {
   "cell_type": "code",
   "execution_count": null,
   "id": "51ea26c9",
   "metadata": {},
   "outputs": [],
   "source": [
    "ordem = ['segunda-feira', 'terça-feira', 'quarta-feira', 'quinta-feira', 'sexta-feira', 'sábado', 'domingo']\n",
    "\n",
    "plt.figure(figsize = (15, 6))\n",
    "\n",
    "plt.subplot(1, 2, 1)\n",
    "sns.countplot(data = df_membro,\n",
    "                     x = 'Dia da Semana',\n",
    "                     color = '#ff9f84',\n",
    "                     alpha = 0.9,\n",
    "                     order = ordem)\n",
    "\n",
    "plt.title( \"Aluguéis de Bicicleta por Dia da Semana - Clientes Membros\" , size = 15 )\n",
    "plt.xlabel(' ')\n",
    "plt.ylabel(' ')\n",
    "plt.xticks(rotation = 45)\n",
    "\n",
    "plt.subplot(1, 2, 2)\n",
    "sns.countplot(data = df_casual,\n",
    "                     x = 'Dia da Semana',\n",
    "                     color = '#89ffa0',\n",
    "                     alpha = 0.9,\n",
    "                     order = ordem)\n",
    "\n",
    "plt.title( \"Aluguéis de Bicicleta por Dia da Semana - Clientes Casuais\" , size = 15 )\n",
    "plt.xlabel(' ')\n",
    "plt.ylabel(' ')\n",
    "plt.xticks(rotation = 45)\n",
    "\n",
    "plt.tight_layout()"
   ]
  },
  {
   "cell_type": "markdown",
   "id": "d21ba02b",
   "metadata": {},
   "source": [
    "> Das análises acima, podemos perceber:\n",
    "\n",
    "* os membros, em média utilizam as bicicletas menos tempo do que os clientes casuais.\n",
    "* Os clientes casuais utilizam as bicicletas mais durante os finais de semana, enquanto os membros usam no meio da semana. Porém, existem diversos clientes casuais que também utilizam as bicicletas no meio da semana.\n",
    "\n",
    "### Clientes com Trabalho igual a Sim\n",
    "\n",
    "As análises, a partir de agora serão focadas naqueles registros que se enquadram na categoria trabalho, criada anteriormente. Para relembrar, aqueles registros que possuem duração abaixo de 50 minutos e que não seja no final de semana, tem valor `Sim` para essa categoria, indicando que aquele aluguél, **possivelmente**, representa um cliente no deslocamento ao trabalho."
   ]
  },
  {
   "cell_type": "code",
   "execution_count": null,
   "id": "5ee2e1c0",
   "metadata": {},
   "outputs": [],
   "source": [
    "print('Porcentagem de Bicicletas para o Trabalho - Membros\\n')\n",
    "print(round((df_membro['Trabalho'].value_counts()/df_membro.shape[0])*100, 2))\n",
    "print(50 * '-')\n",
    "print('Porcentagem de Bicicletas para o Trabalho - Casuais\\n')\n",
    "print(round((df_casual['Trabalho'].value_counts()/df_casual.shape[0])*100, 2))"
   ]
  },
  {
   "cell_type": "markdown",
   "id": "1a1f3201",
   "metadata": {},
   "source": [
    "> Da informação acima, podemos concluir que muitos registros de clientes casuais (52%, aproximadamente), se enquadram nas características para o deslocamento de trabalho. Em um contexto geral, podemos dizer que 52% dos registros casuais se comportam de maneira semelhante à 73% de registros de clientes membros, indicando um padrão nos dados."
   ]
  },
  {
   "cell_type": "code",
   "execution_count": null,
   "id": "3cdca528",
   "metadata": {},
   "outputs": [],
   "source": [
    "# Subset dos membros\n",
    "df_membro_trabalho = df[(df['Tipo Plano'] == 'member') & (df['Trabalho'] == 'Sim')]\n",
    "df_membro_trabalho.reset_index(inplace = True, drop = True)\n",
    "\n",
    "# Subset dos casuais\n",
    "df_casual_trabalho = df[(df['Tipo Plano'] == 'casual') & (df['Trabalho'] == 'Sim')]\n",
    "df_casual_trabalho.reset_index(inplace = True, drop = True)"
   ]
  },
  {
   "cell_type": "code",
   "execution_count": null,
   "id": "399d4de9",
   "metadata": {},
   "outputs": [],
   "source": [
    "plt.figure(figsize = (15, 6))\n",
    "\n",
    "plt.subplot(1, 2, 1)\n",
    "df_membro_trabalho['Duração_Minutos'].hist(color = '#ff9f84', alpha = 0.7, edgecolor='black');\n",
    "plt.title( \"Duração - Clientes Membros (Trabalho)\" , size = 24 )\n",
    "\n",
    "plt.subplot(1, 2, 2)\n",
    "df_casual_trabalho['Duração_Minutos'].hist(color = '#89ffa0', alpha = 0.7, edgecolor='black');\n",
    "plt.title( \"Duração - Clientes Casuais (Trabalho)\" , size = 24 )\n",
    "\n",
    "\n",
    "plt.tight_layout()"
   ]
  },
  {
   "cell_type": "code",
   "execution_count": null,
   "id": "3f1a3bf2",
   "metadata": {},
   "outputs": [],
   "source": [
    "ordem = ['segunda-feira', 'terça-feira', 'quarta-feira', 'quinta-feira', 'sexta-feira']\n",
    "\n",
    "plt.figure(figsize = (15, 6))\n",
    "\n",
    "plt.subplot(1, 2, 1)\n",
    "sns.countplot(data = df_membro_trabalho,\n",
    "                     x = 'Dia da Semana',\n",
    "                     color = '#ff9f84',\n",
    "                     alpha = 0.9,\n",
    "                     order = ordem)\n",
    "\n",
    "plt.title( \"Aluguéis por Dia da Semana - Clientes Membros  (Trabalho)\" , size = 15 )\n",
    "plt.xlabel(' ')\n",
    "plt.ylabel(' ')\n",
    "plt.xticks(rotation = 45)\n",
    "\n",
    "plt.subplot(1, 2, 2)\n",
    "sns.countplot(data = df_casual_trabalho,\n",
    "                     x = 'Dia da Semana',\n",
    "                     color = '#89ffa0',\n",
    "                     alpha = 0.9,\n",
    "                     order = ordem)\n",
    "\n",
    "plt.title( \"Aluguéis por Dia da Semana - Clientes Casuais (Trabalho)\" , size = 15 )\n",
    "plt.xlabel(' ')\n",
    "plt.ylabel(' ')\n",
    "plt.xticks(rotation = 45)\n",
    "\n",
    "plt.tight_layout()"
   ]
  },
  {
   "cell_type": "markdown",
   "id": "e015621c",
   "metadata": {},
   "source": [
    "### Conclusão\n",
    "\n",
    "* Como os clientes membros e casuais utilizam as bicicletas?\n",
    "\n",
    "Os clientes membros, em sua maioria, utilizam as bicicletas de segunda à sexta, com duração do aluguél de até 50 minutos. Para a nossa análise, registros que se enquadrassem nessas condições seriam considerados aluguéis de bicicleta para o deslocamnento ao trabalho. \n",
    "\n",
    "Já, para os clientes casuais, os registros são equilibrados (50/50 aproximadamente), entre aluguéis que se enquadrem nas condições acima e aluguéis que não se enquadram. Uma suposição feita é que os clientes casuais utilizam as bicicletas para lazer mais do que os clientes membros. \n",
    "\n",
    "Ambos os tipos de clientes utilizam mais as bicicletas durante o verão. \n",
    "\n",
    "Portanto, podemos concluir que, existem diversos clientes casuais que se comportam como a maior parte dos clientes membros. Considerando as suposições feitas, existem muitos clientes casuais que utilizam as bicicletas para se deslocarem ao trabalho.\n",
    "\n",
    "## 5.2 Por que os passageiros casuais iriam querer adquirir planos anuais?\n",
    "\n",
    "Não sabemos as caracteristicas de cada tipo de plano. Porém, devido à alta quantidade de registros de clientes membros que utilizm as bicicletas para o deslocamento ao trabalho, imagina- se que existam benefícios em sua assinatura. Portanto, para os clientes casuais que utilizam as bicicletas para o deslocamento ao trabalho, o plano anual de membro seria a melhor opção, principalmente para aqueles que utilizem com maior frequência.\n",
    "\n",
    "## 5.3 Qual a estratégia de marketing poderá ser adotada para influenciar os passageiros casuais a se tornarem membros?\n",
    "\n",
    "1. As campanhas de marketing devem ser voltadas, principalmente, para clientes casuais que utilizem as bicicletas no deslocamento ao trabalho. \n",
    "\n",
    "2. Os benefícios que esses clientes receberão com a mudança do plano devem ser reforçados. Algum tipo de promoção poderia ser feita para atrair a atenção desses clientes casuais, além de outros possíveis clientes. \n",
    "\n",
    "3. O período ideal para a aplicação da estratégia é no início do verão, quando se tem uma maior utilização das bicicletas.\n",
    "\n",
    "> Caso haja interesse em realizar alguma estratégia de marketing (ou até algum tipo de pesquisa) in loco, as 5 estações com maiores movimentações são:\n",
    "\n",
    "* Streeter Dr & Grand Ave\n",
    "\n",
    "* Michigan Ave & Oak St\n",
    "\n",
    "* DuSable Lake Shore Dr & North Blvd\n",
    "\n",
    "* Millennium Park\n",
    "\n",
    "* Wells St & Concord Ln \n"
   ]
  },
  {
   "cell_type": "markdown",
   "id": "23d29831",
   "metadata": {},
   "source": [
    "# 6. Próximos Passos\n",
    "\n",
    "Essa análise considerou dados dos anos 2021 e 2022, anos que ainda sofreram com a influência da pandemia de COVID-19. Por isso, é interessante, futuramente, realizar uma nova análise, considerando um período com menos influência da pandemia e entender se existe alguma mudança.\n",
    "\n",
    "Além disso, 2 pontos poderiam ser adicionados no conjunto de dados:\n",
    "\n",
    "**1. Dados financeiros dos tipos de plano**\n",
    "> Com isso, é possível realizar também uma análise financeira, demonstrando o retorno monetário que as ações sugeridas poderiam trazer.\n",
    "\n",
    "**2. Dados de clientes**\n",
    "> Tendo apenas uma coluna de ID do Cliente (mantendo, assim, o anonimato), seria possível realizar análises a nivel de clientes. Isso nos retornaria a quantidade de clientes membros ou casuais, quais clientes utilizam as bicicletas de modo contínuo (vários dias da semana) e quais utilizam de forma esporádica, além de prever a quantidade de clientes que poderiam mudar de plano com a aplicação das ações sugeridas."
   ]
  }
 ],
 "metadata": {
  "kernelspec": {
   "display_name": "Python 3 (ipykernel)",
   "language": "python",
   "name": "python3"
  },
  "language_info": {
   "codemirror_mode": {
    "name": "ipython",
    "version": 3
   },
   "file_extension": ".py",
   "mimetype": "text/x-python",
   "name": "python",
   "nbconvert_exporter": "python",
   "pygments_lexer": "ipython3",
   "version": "3.10.9"
  }
 },
 "nbformat": 4,
 "nbformat_minor": 5
}
